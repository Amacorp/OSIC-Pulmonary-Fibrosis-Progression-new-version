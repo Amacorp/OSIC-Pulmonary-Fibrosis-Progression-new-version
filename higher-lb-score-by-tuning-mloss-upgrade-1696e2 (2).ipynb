{
 "cells": [
  {
   "cell_type": "markdown",
   "metadata": {
    "papermill": {
     "duration": 0.050325,
     "end_time": "2020-09-11T07:13:51.760099",
     "exception": false,
     "start_time": "2020-09-11T07:13:51.709774",
     "status": "completed"
    },
    "tags": []
   },
   "source": [
    "<a class=\"anchor\" id=\"0\"></a>\n",
    "# [OSIC Pulmonary Fibrosis Progression](https://www.kaggle.com/c/osic-pulmonary-fibrosis-progression)"
   ]
  },
  {
   "cell_type": "markdown",
   "metadata": {
    "papermill": {
     "duration": 0.048954,
     "end_time": "2020-09-11T07:13:51.857568",
     "exception": false,
     "start_time": "2020-09-11T07:13:51.808614",
     "status": "completed"
    },
    "tags": []
   },
   "source": [
    "### I use the notebook [Higher LB score by tuning mloss (around -6.811)](https://www.kaggle.com/reighns/higher-lb-score-by-tuning-mloss-around-6-811) from [Hongnan Gao](https://www.kaggle.com/reighns) as a basis and will try to tune its various parameters. \n",
    "\n",
    "#### From the first attempt, it was possible to improve the LB score"
   ]
  },
  {
   "cell_type": "markdown",
   "metadata": {
    "papermill": {
     "duration": 0.066579,
     "end_time": "2020-09-11T07:13:51.973169",
     "exception": false,
     "start_time": "2020-09-11T07:13:51.906590",
     "status": "completed"
    },
    "tags": []
   },
   "source": [
    "# Acknowledgements\n",
    "\n",
    "* Ulrich GOUE's Osic-Multiple-Quantile-Regression-Starter\n",
    "    - Model that uses images can be found at: https://www.kaggle.com/miklgr500/linear-decay-based-on-resnet-cnn\n",
    "* Michael Kazachok's Linear Decay (based on ResNet CNN)\n",
    "    - Model that uses tabular data can be found at: https://www.kaggle.com/ulrich07/osic-multiple-quantile-regression-starter\n",
    "* Replaced Michael's model with EfficientNets B0, B2, B4\n",
    "* Tuning the parameters of the models from https://www.kaggle.com/reighns/higher-lb-score-by-tuning-mloss \n",
    "* https://www.kaggle.com/leoisleo1/efficientnets-quantile-regression-inference\n",
    "* https://www.kaggle.com/khoongweihao/efficientnets-quantile-regression-inference"
   ]
  },
  {
   "cell_type": "markdown",
   "metadata": {
    "papermill": {
     "duration": 0.049467,
     "end_time": "2020-09-11T07:13:52.071322",
     "exception": false,
     "start_time": "2020-09-11T07:13:52.021855",
     "status": "completed"
    },
    "tags": []
   },
   "source": [
    "<a class=\"anchor\" id=\"0.1\"></a>\n",
    "## Table of Contents\n",
    "\n",
    "1. [My upgrade](#1)\n",
    "    -  [Commit now](#1.1)\n",
    "    -  [Previous commits](#1.2)\n",
    "1. [Import libraries](#2)\n",
    "1. [Download data, auxiliary functions and model tuning](#3)\n",
    "1. [Prediction and submission](#4)\n",
    "    -  [Average prediction](#4.1)\n",
    "    -  [Osic-Multiple-Quantile-Regression](#4.2)\n",
    "    -  [The change of mloss](#4.3) \n",
    "    -  [Ensemble and blending](#4.4)"
   ]
  },
  {
   "cell_type": "markdown",
   "metadata": {
    "papermill": {
     "duration": 0.049168,
     "end_time": "2020-09-11T07:13:52.178557",
     "exception": false,
     "start_time": "2020-09-11T07:13:52.129389",
     "status": "completed"
    },
    "tags": []
   },
   "source": [
    "## 1. My upgrade <a class=\"anchor\" id=\"1\"></a>\n",
    "\n",
    "[Back to Table of Contents](#0.1)"
   ]
  },
  {
   "cell_type": "markdown",
   "metadata": {
    "papermill": {
     "duration": 0.050441,
     "end_time": "2020-09-11T07:13:52.279973",
     "exception": false,
     "start_time": "2020-09-11T07:13:52.229532",
     "status": "completed"
    },
    "tags": []
   },
   "source": [
    "## 1.1. Commit now <a class=\"anchor\" id=\"1.1\"></a>\n",
    "\n",
    "[Back to Table of Contents](#0.1)"
   ]
  },
  {
   "cell_type": "code",
   "execution_count": 1,
   "metadata": {
    "execution": {
     "iopub.execute_input": "2020-09-11T07:13:52.388011Z",
     "iopub.status.busy": "2020-09-11T07:13:52.387031Z",
     "iopub.status.idle": "2020-09-11T07:13:52.389594Z",
     "shell.execute_reply": "2020-09-11T07:13:52.390154Z"
    },
    "papermill": {
     "duration": 0.059415,
     "end_time": "2020-09-11T07:13:52.390321",
     "exception": false,
     "start_time": "2020-09-11T07:13:52.330906",
     "status": "completed"
    },
    "tags": []
   },
   "outputs": [],
   "source": [
    "Dropout_model = 0.38\n",
    "FVC_weight = 0.2\n",
    "Confidence_weight = 0.2"
   ]
  },
  {
   "cell_type": "markdown",
   "metadata": {
    "papermill": {
     "duration": 0.049987,
     "end_time": "2020-09-11T07:13:52.491015",
     "exception": false,
     "start_time": "2020-09-11T07:13:52.441028",
     "status": "completed"
    },
    "tags": []
   },
   "source": [
    "## 1.2 Previous commits <a class=\"anchor\" id=\"1.2\"></a>\n",
    "\n",
    "[Back to Table of Contents](#0.1)"
   ]
  },
  {
   "cell_type": "markdown",
   "metadata": {
    "papermill": {
     "duration": 0.049123,
     "end_time": "2020-09-11T07:13:52.590002",
     "exception": false,
     "start_time": "2020-09-11T07:13:52.540879",
     "status": "completed"
    },
    "tags": []
   },
   "source": [
    "### Commit 1 (parameters from https://www.kaggle.com/reighns/higher-lb-score-by-tuning-mloss)\n",
    "\n",
    "* Dropout_model = 0.4\n",
    "* FVC_weight = 0.25\n",
    "* Confidence_weight = 0.26\n",
    "\n",
    "LB = -6.8111"
   ]
  },
  {
   "cell_type": "markdown",
   "metadata": {
    "papermill": {
     "duration": 0.050397,
     "end_time": "2020-09-11T07:13:52.689926",
     "exception": false,
     "start_time": "2020-09-11T07:13:52.639529",
     "status": "completed"
    },
    "tags": []
   },
   "source": [
    "### Commit 4\n",
    "\n",
    "* Dropout_model = 0.36\n",
    "* FVC_weight = 0.25\n",
    "* Confidence_weight = 0.26\n",
    "\n",
    "LB = -6.8105"
   ]
  },
  {
   "cell_type": "markdown",
   "metadata": {
    "papermill": {
     "duration": 0.050057,
     "end_time": "2020-09-11T07:13:52.789261",
     "exception": false,
     "start_time": "2020-09-11T07:13:52.739204",
     "status": "completed"
    },
    "tags": []
   },
   "source": [
    "### Commit 6\n",
    "\n",
    "* Dropout_model = 0.36\n",
    "* FVC_weight = 0.35\n",
    "* Confidence_weight = 0.36\n",
    "\n",
    "LB = -6.8158"
   ]
  },
  {
   "cell_type": "markdown",
   "metadata": {
    "papermill": {
     "duration": 0.049805,
     "end_time": "2020-09-11T07:13:52.888624",
     "exception": false,
     "start_time": "2020-09-11T07:13:52.838819",
     "status": "completed"
    },
    "tags": []
   },
   "source": [
    "### Commit 8\n",
    "\n",
    "* Dropout_model = 0.35\n",
    "* FVC_weight = 0.25\n",
    "* Confidence_weight = 0.26\n",
    "\n",
    "LB = -6.8107"
   ]
  },
  {
   "cell_type": "markdown",
   "metadata": {
    "papermill": {
     "duration": 0.049255,
     "end_time": "2020-09-11T07:13:52.990539",
     "exception": false,
     "start_time": "2020-09-11T07:13:52.941284",
     "status": "completed"
    },
    "tags": []
   },
   "source": [
    "### Commit 9\n",
    "\n",
    "* Dropout_model = 0.35\n",
    "* FVC_weight = 0.3\n",
    "* Confidence_weight = 0.3\n",
    "\n",
    "LB = -6.8125"
   ]
  },
  {
   "cell_type": "markdown",
   "metadata": {
    "papermill": {
     "duration": 0.049035,
     "end_time": "2020-09-11T07:13:53.088848",
     "exception": false,
     "start_time": "2020-09-11T07:13:53.039813",
     "status": "completed"
    },
    "tags": []
   },
   "source": [
    "### Commit 10\n",
    "\n",
    "* Dropout_model = 0.36\n",
    "* FVC_weight = 0.2\n",
    "* Confidence_weight = 0.2\n",
    "\n",
    "LB = -6.8089"
   ]
  },
  {
   "cell_type": "markdown",
   "metadata": {
    "papermill": {
     "duration": 0.048998,
     "end_time": "2020-09-11T07:13:53.188189",
     "exception": false,
     "start_time": "2020-09-11T07:13:53.139191",
     "status": "completed"
    },
    "tags": []
   },
   "source": [
    "### Commit 11\n",
    "\n",
    "* Dropout_model = 0.36\n",
    "* FVC_weight = 0.15\n",
    "* Confidence_weight = 0.15\n",
    "\n",
    "LB = -6.8100"
   ]
  },
  {
   "cell_type": "markdown",
   "metadata": {
    "papermill": {
     "duration": 0.049408,
     "end_time": "2020-09-11T07:13:53.287351",
     "exception": false,
     "start_time": "2020-09-11T07:13:53.237943",
     "status": "completed"
    },
    "tags": []
   },
   "source": [
    "### Commit 13\n",
    "\n",
    "* Dropout_model = 0.36\n",
    "* FVC_weight = 0.175\n",
    "* Confidence_weight = 0.175\n",
    "\n",
    "LB = -6.8096"
   ]
  },
  {
   "cell_type": "markdown",
   "metadata": {
    "papermill": {
     "duration": 0.049843,
     "end_time": "2020-09-11T07:13:53.388035",
     "exception": false,
     "start_time": "2020-09-11T07:13:53.338192",
     "status": "completed"
    },
    "tags": []
   },
   "source": [
    "### Commit 14\n",
    "\n",
    "* Dropout_model = 0.36\n",
    "* FVC_weight = 0.225\n",
    "* Confidence_weight = 0.225\n",
    "\n",
    "LB = -6.8100"
   ]
  },
  {
   "cell_type": "markdown",
   "metadata": {
    "papermill": {
     "duration": 0.066171,
     "end_time": "2020-09-11T07:13:53.512529",
     "exception": false,
     "start_time": "2020-09-11T07:13:53.446358",
     "status": "completed"
    },
    "tags": []
   },
   "source": [
    "### Commit 15\n",
    "\n",
    "* Dropout_model = 0.32\n",
    "* FVC_weight = 0.2\n",
    "* Confidence_weight = 0.2\n",
    "\n",
    "LB = -6.8092"
   ]
  },
  {
   "cell_type": "markdown",
   "metadata": {
    "papermill": {
     "duration": 0.048857,
     "end_time": "2020-09-11T07:13:53.610755",
     "exception": false,
     "start_time": "2020-09-11T07:13:53.561898",
     "status": "completed"
    },
    "tags": []
   },
   "source": [
    "### Commit 16\n",
    "\n",
    "* Dropout_model = 0.25\n",
    "* FVC_weight = 0.2\n",
    "* Confidence_weight = 0.2\n",
    "\n",
    "LB = -6.8093"
   ]
  },
  {
   "cell_type": "markdown",
   "metadata": {
    "papermill": {
     "duration": 0.050131,
     "end_time": "2020-09-11T07:13:53.711619",
     "exception": false,
     "start_time": "2020-09-11T07:13:53.661488",
     "status": "completed"
    },
    "tags": []
   },
   "source": [
    "### Commit 17\n",
    "\n",
    "* Dropout_model = 0.25\n",
    "* FVC_weight = 0.5\n",
    "* Confidence_weight = 0.5\n",
    "\n",
    "LB = -6.8283"
   ]
  },
  {
   "cell_type": "markdown",
   "metadata": {
    "papermill": {
     "duration": 0.049995,
     "end_time": "2020-09-11T07:13:53.810168",
     "exception": false,
     "start_time": "2020-09-11T07:13:53.760173",
     "status": "completed"
    },
    "tags": []
   },
   "source": [
    "## 2. Import libraries <a class=\"anchor\" id=\"2\"></a>\n",
    "\n",
    "[Back to Table of Contents](#0.1)"
   ]
  },
  {
   "cell_type": "code",
   "execution_count": 2,
   "metadata": {
    "_kg_hide-input": true,
    "_kg_hide-output": true,
    "execution": {
     "iopub.execute_input": "2020-09-11T07:13:53.918568Z",
     "iopub.status.busy": "2020-09-11T07:13:53.917747Z",
     "iopub.status.idle": "2020-09-11T07:14:12.209453Z",
     "shell.execute_reply": "2020-09-11T07:14:12.209962Z"
    },
    "papermill": {
     "duration": 18.351533,
     "end_time": "2020-09-11T07:14:12.210117",
     "exception": false,
     "start_time": "2020-09-11T07:13:53.858584",
     "status": "completed"
    },
    "tags": []
   },
   "outputs": [
    {
     "name": "stdout",
     "output_type": "stream",
     "text": [
      "Looking in links: ./\r\n",
      "Processing /kaggle/input/kerasapplications/keras-team-keras-applications-3b180cb\r\n",
      "Requirement already satisfied: numpy>=1.9.1 in /opt/conda/lib/python3.7/site-packages (from Keras-Applications==1.0.8) (1.18.5)\r\n",
      "Requirement already satisfied: h5py in /opt/conda/lib/python3.7/site-packages (from Keras-Applications==1.0.8) (2.10.0)\r\n",
      "Requirement already satisfied: six in /opt/conda/lib/python3.7/site-packages (from h5py->Keras-Applications==1.0.8) (1.14.0)\r\n",
      "Building wheels for collected packages: Keras-Applications\r\n",
      "  Building wheel for Keras-Applications (setup.py) ... \u001b[?25l-\b \b\\\b \bdone\r\n",
      "\u001b[?25h  Created wheel for Keras-Applications: filename=Keras_Applications-1.0.8-py3-none-any.whl size=50704 sha256=6823e48616aff48aa6353c24a3cc324bd0493414ac3078118357be12fb1d0a07\r\n",
      "  Stored in directory: /root/.cache/pip/wheels/f4/96/13/eccdd9391bd8df958d78851b98ec4dc207ba05b67b011eb70a\r\n",
      "Successfully built Keras-Applications\r\n",
      "Installing collected packages: Keras-Applications\r\n",
      "Successfully installed Keras-Applications-1.0.8\r\n",
      "Looking in links: ./\r\n",
      "Processing /kaggle/input/efficientnet/efficientnet-1.1.0\r\n",
      "Requirement already satisfied: keras_applications<=1.0.8,>=1.0.7 in /opt/conda/lib/python3.7/site-packages (from efficientnet==1.1.0) (1.0.8)\r\n",
      "Requirement already satisfied: scikit-image in /opt/conda/lib/python3.7/site-packages (from efficientnet==1.1.0) (0.16.2)\r\n",
      "Requirement already satisfied: h5py in /opt/conda/lib/python3.7/site-packages (from keras_applications<=1.0.8,>=1.0.7->efficientnet==1.1.0) (2.10.0)\r\n",
      "Requirement already satisfied: numpy>=1.9.1 in /opt/conda/lib/python3.7/site-packages (from keras_applications<=1.0.8,>=1.0.7->efficientnet==1.1.0) (1.18.5)\r\n",
      "Requirement already satisfied: scipy>=0.19.0 in /opt/conda/lib/python3.7/site-packages (from scikit-image->efficientnet==1.1.0) (1.4.1)\r\n",
      "Requirement already satisfied: matplotlib!=3.0.0,>=2.0.0 in /opt/conda/lib/python3.7/site-packages (from scikit-image->efficientnet==1.1.0) (3.2.1)\r\n",
      "Requirement already satisfied: networkx>=2.0 in /opt/conda/lib/python3.7/site-packages (from scikit-image->efficientnet==1.1.0) (2.4)\r\n",
      "Requirement already satisfied: pillow>=4.3.0 in /opt/conda/lib/python3.7/site-packages (from scikit-image->efficientnet==1.1.0) (7.2.0)\r\n",
      "Requirement already satisfied: imageio>=2.3.0 in /opt/conda/lib/python3.7/site-packages (from scikit-image->efficientnet==1.1.0) (2.8.0)\r\n",
      "Requirement already satisfied: PyWavelets>=0.4.0 in /opt/conda/lib/python3.7/site-packages (from scikit-image->efficientnet==1.1.0) (1.1.1)\r\n",
      "Requirement already satisfied: six in /opt/conda/lib/python3.7/site-packages (from h5py->keras_applications<=1.0.8,>=1.0.7->efficientnet==1.1.0) (1.14.0)\r\n",
      "Requirement already satisfied: kiwisolver>=1.0.1 in /opt/conda/lib/python3.7/site-packages (from matplotlib!=3.0.0,>=2.0.0->scikit-image->efficientnet==1.1.0) (1.2.0)\r\n",
      "Requirement already satisfied: python-dateutil>=2.1 in /opt/conda/lib/python3.7/site-packages (from matplotlib!=3.0.0,>=2.0.0->scikit-image->efficientnet==1.1.0) (2.8.1)\r\n",
      "Requirement already satisfied: pyparsing!=2.0.4,!=2.1.2,!=2.1.6,>=2.0.1 in /opt/conda/lib/python3.7/site-packages (from matplotlib!=3.0.0,>=2.0.0->scikit-image->efficientnet==1.1.0) (2.4.7)\r\n",
      "Requirement already satisfied: cycler>=0.10 in /opt/conda/lib/python3.7/site-packages (from matplotlib!=3.0.0,>=2.0.0->scikit-image->efficientnet==1.1.0) (0.10.0)\r\n",
      "Requirement already satisfied: decorator>=4.3.0 in /opt/conda/lib/python3.7/site-packages (from networkx>=2.0->scikit-image->efficientnet==1.1.0) (4.4.2)\r\n",
      "Building wheels for collected packages: efficientnet\r\n",
      "  Building wheel for efficientnet (setup.py) ... \u001b[?25l-\b \b\\\b \bdone\r\n",
      "\u001b[?25h  Created wheel for efficientnet: filename=efficientnet-1.1.0-py3-none-any.whl size=14141 sha256=dc8ac64c22d88c17d3c12db31494321f1931b5e4ef7bcfd5210a707bca8a2f27\r\n",
      "  Stored in directory: /root/.cache/pip/wheels/24/f5/31/3cc20871288fe532128224a3f5af7b4d67efb9835bd5683522\r\n",
      "Successfully built efficientnet\r\n",
      "Installing collected packages: efficientnet\r\n",
      "Successfully installed efficientnet-1.1.0\r\n"
     ]
    }
   ],
   "source": [
    "!pip install ../input/kerasapplications/keras-team-keras-applications-3b180cb -f ./ --no-index\n",
    "!pip install ../input/efficientnet/efficientnet-1.1.0/ -f ./ --no-index"
   ]
  },
  {
   "cell_type": "code",
   "execution_count": 3,
   "metadata": {
    "_cell_guid": "79c7e3d0-c299-4dcb-8224-4455121ee9b0",
    "_kg_hide-input": false,
    "_uuid": "d629ff2d2480ee46fbb7e2d37f6b5fab8052498a",
    "execution": {
     "iopub.execute_input": "2020-09-11T07:14:12.334025Z",
     "iopub.status.busy": "2020-09-11T07:14:12.333144Z",
     "iopub.status.idle": "2020-09-11T07:14:18.718463Z",
     "shell.execute_reply": "2020-09-11T07:14:18.717035Z"
    },
    "papermill": {
     "duration": 6.450549,
     "end_time": "2020-09-11T07:14:18.718586",
     "exception": false,
     "start_time": "2020-09-11T07:14:12.268037",
     "status": "completed"
    },
    "tags": []
   },
   "outputs": [],
   "source": [
    "import os\n",
    "import cv2\n",
    "import pydicom\n",
    "import pandas as pd\n",
    "import numpy as np \n",
    "import tensorflow as tf \n",
    "import matplotlib.pyplot as plt \n",
    "import random\n",
    "from tqdm.notebook import tqdm \n",
    "from sklearn.model_selection import train_test_split, KFold\n",
    "from sklearn.metrics import mean_absolute_error\n",
    "from tensorflow_addons.optimizers import RectifiedAdam\n",
    "from tensorflow.keras import Model\n",
    "import tensorflow.keras.backend as K\n",
    "import tensorflow.keras.layers as L\n",
    "import tensorflow.keras.models as M\n",
    "from tensorflow.keras.optimizers import Nadam\n",
    "import seaborn as sns\n",
    "from PIL import Image\n",
    "\n",
    "def seed_everything(seed=2020):\n",
    "    random.seed(seed)\n",
    "    os.environ['PYTHONHASHSEED'] = str(seed)\n",
    "    np.random.seed(seed)\n",
    "    tf.random.set_seed(seed)\n",
    "    \n",
    "seed_everything(42)"
   ]
  },
  {
   "cell_type": "code",
   "execution_count": 4,
   "metadata": {
    "_kg_hide-input": true,
    "execution": {
     "iopub.execute_input": "2020-09-11T07:14:18.830346Z",
     "iopub.status.busy": "2020-09-11T07:14:18.829645Z",
     "iopub.status.idle": "2020-09-11T07:14:21.773832Z",
     "shell.execute_reply": "2020-09-11T07:14:21.774473Z"
    },
    "papermill": {
     "duration": 3.002667,
     "end_time": "2020-09-11T07:14:21.774669",
     "exception": false,
     "start_time": "2020-09-11T07:14:18.772002",
     "status": "completed"
    },
    "tags": []
   },
   "outputs": [],
   "source": [
    "config = tf.compat.v1.ConfigProto()\n",
    "config.gpu_options.allow_growth = True\n",
    "session = tf.compat.v1.Session(config=config)"
   ]
  },
  {
   "cell_type": "markdown",
   "metadata": {
    "papermill": {
     "duration": 0.053167,
     "end_time": "2020-09-11T07:14:21.882743",
     "exception": false,
     "start_time": "2020-09-11T07:14:21.829576",
     "status": "completed"
    },
    "tags": []
   },
   "source": [
    "## 3. Download data, auxiliary functions and model tuning <a class=\"anchor\" id=\"3\"></a>\n",
    "\n",
    "[Back to Table of Contents](#0.1)"
   ]
  },
  {
   "cell_type": "code",
   "execution_count": 5,
   "metadata": {
    "execution": {
     "iopub.execute_input": "2020-09-11T07:14:21.996909Z",
     "iopub.status.busy": "2020-09-11T07:14:21.995949Z",
     "iopub.status.idle": "2020-09-11T07:14:22.008063Z",
     "shell.execute_reply": "2020-09-11T07:14:22.007551Z"
    },
    "papermill": {
     "duration": 0.071833,
     "end_time": "2020-09-11T07:14:22.008164",
     "exception": false,
     "start_time": "2020-09-11T07:14:21.936331",
     "status": "completed"
    },
    "tags": []
   },
   "outputs": [],
   "source": [
    "train = pd.read_csv('../input/osic-pulmonary-fibrosis-progression/train.csv') "
   ]
  },
  {
   "cell_type": "code",
   "execution_count": 6,
   "metadata": {
    "_kg_hide-input": true,
    "execution": {
     "iopub.execute_input": "2020-09-11T07:14:22.124724Z",
     "iopub.status.busy": "2020-09-11T07:14:22.123986Z",
     "iopub.status.idle": "2020-09-11T07:14:22.127840Z",
     "shell.execute_reply": "2020-09-11T07:14:22.127376Z"
    },
    "papermill": {
     "duration": 0.066211,
     "end_time": "2020-09-11T07:14:22.127938",
     "exception": false,
     "start_time": "2020-09-11T07:14:22.061727",
     "status": "completed"
    },
    "tags": []
   },
   "outputs": [],
   "source": [
    "def get_tab(df):\n",
    "    vector = [(df.Age.values[0] - 30) / 30] \n",
    "    \n",
    "    if df.Sex.values[0] == 'male':\n",
    "       vector.append(0)\n",
    "    else:\n",
    "       vector.append(1)\n",
    "    \n",
    "    if df.SmokingStatus.values[0] == 'Never smoked':\n",
    "        vector.extend([0,0])\n",
    "    elif df.SmokingStatus.values[0] == 'Ex-smoker':\n",
    "        vector.extend([1,1])\n",
    "    elif df.SmokingStatus.values[0] == 'Currently smokes':\n",
    "        vector.extend([0,1])\n",
    "    else:\n",
    "        vector.extend([1,0])\n",
    "    return np.array(vector) "
   ]
  },
  {
   "cell_type": "code",
   "execution_count": 7,
   "metadata": {
    "execution": {
     "iopub.execute_input": "2020-09-11T07:14:22.250715Z",
     "iopub.status.busy": "2020-09-11T07:14:22.249795Z",
     "iopub.status.idle": "2020-09-11T07:14:22.649153Z",
     "shell.execute_reply": "2020-09-11T07:14:22.645433Z"
    },
    "papermill": {
     "duration": 0.467324,
     "end_time": "2020-09-11T07:14:22.649403",
     "exception": false,
     "start_time": "2020-09-11T07:14:22.182079",
     "status": "completed"
    },
    "tags": []
   },
   "outputs": [
    {
     "data": {
      "application/vnd.jupyter.widget-view+json": {
       "model_id": "d41fe29bd40a4e85b18e3d78e084c180",
       "version_major": 2,
       "version_minor": 0
      },
      "text/plain": [
       "HBox(children=(FloatProgress(value=1.0, bar_style='info', max=1.0), HTML(value='')))"
      ]
     },
     "metadata": {},
     "output_type": "display_data"
    },
    {
     "name": "stdout",
     "output_type": "stream",
     "text": [
      "\n"
     ]
    },
    {
     "name": "stderr",
     "output_type": "stream",
     "text": [
      "/opt/conda/lib/python3.7/site-packages/ipykernel_launcher.py:9: FutureWarning: `rcond` parameter will change to the default of machine precision times ``max(M, N)`` where M and N are the input matrix dimensions.\n",
      "To use the future default and silence this warning we advise to pass `rcond=None`, to keep using the old, explicitly pass `rcond=-1`.\n",
      "  if __name__ == '__main__':\n"
     ]
    }
   ],
   "source": [
    "A = {} \n",
    "TAB = {} \n",
    "P = [] \n",
    "for i, p in tqdm(enumerate(train.Patient.unique())):\n",
    "    sub = train.loc[train.Patient == p, :] \n",
    "    fvc = sub.FVC.values\n",
    "    weeks = sub.Weeks.values\n",
    "    c = np.vstack([weeks, np.ones(len(weeks))]).T\n",
    "    a, b = np.linalg.lstsq(c, fvc)[0]\n",
    "    \n",
    "    A[p] = a\n",
    "    TAB[p] = get_tab(sub)\n",
    "    P.append(p)"
   ]
  },
  {
   "cell_type": "code",
   "execution_count": 8,
   "metadata": {
    "_kg_hide-input": true,
    "execution": {
     "iopub.execute_input": "2020-09-11T07:14:22.772709Z",
     "iopub.status.busy": "2020-09-11T07:14:22.771965Z",
     "iopub.status.idle": "2020-09-11T07:14:22.775454Z",
     "shell.execute_reply": "2020-09-11T07:14:22.775909Z"
    },
    "papermill": {
     "duration": 0.064452,
     "end_time": "2020-09-11T07:14:22.776037",
     "exception": false,
     "start_time": "2020-09-11T07:14:22.711585",
     "status": "completed"
    },
    "tags": []
   },
   "outputs": [],
   "source": [
    "def get_img(path):\n",
    "    d = pydicom.dcmread(path)\n",
    "    return cv2.resize(d.pixel_array / 2**11, (512, 512))"
   ]
  },
  {
   "cell_type": "code",
   "execution_count": 9,
   "metadata": {
    "_kg_hide-input": true,
    "execution": {
     "iopub.execute_input": "2020-09-11T07:14:22.901403Z",
     "iopub.status.busy": "2020-09-11T07:14:22.900711Z",
     "iopub.status.idle": "2020-09-11T07:14:22.904578Z",
     "shell.execute_reply": "2020-09-11T07:14:22.905079Z"
    },
    "papermill": {
     "duration": 0.074475,
     "end_time": "2020-09-11T07:14:22.905207",
     "exception": false,
     "start_time": "2020-09-11T07:14:22.830732",
     "status": "completed"
    },
    "tags": []
   },
   "outputs": [],
   "source": [
    "from tensorflow.keras.utils import Sequence\n",
    "\n",
    "class IGenerator(Sequence):\n",
    "    BAD_ID = ['ID00011637202177653955184', 'ID00052637202186188008618']\n",
    "    def __init__(self, keys, a, tab, batch_size=32):\n",
    "        self.keys = [k for k in keys if k not in self.BAD_ID]\n",
    "        self.a = a\n",
    "        self.tab = tab\n",
    "        self.batch_size = batch_size\n",
    "        \n",
    "        self.train_data = {}\n",
    "        for p in train.Patient.values:\n",
    "            self.train_data[p] = os.listdir(f'../input/osic-pulmonary-fibrosis-progression/train/{p}/')\n",
    "    \n",
    "    def __len__(self):\n",
    "        return 1000\n",
    "    \n",
    "    def __getitem__(self, idx):\n",
    "        x = []\n",
    "        a, tab = [], [] \n",
    "        keys = np.random.choice(self.keys, size = self.batch_size)\n",
    "        for k in keys:\n",
    "            try:\n",
    "                i = np.random.choice(self.train_data[k], size=1)[0]\n",
    "                img = get_img(f'../input/osic-pulmonary-fibrosis-progression/train/{k}/{i}')\n",
    "                x.append(img)\n",
    "                a.append(self.a[k])\n",
    "                tab.append(self.tab[k])\n",
    "            except:\n",
    "                print(k, i)\n",
    "       \n",
    "        x,a,tab = np.array(x), np.array(a), np.array(tab)\n",
    "        x = np.expand_dims(x, axis=-1)\n",
    "        return [x, tab] , a"
   ]
  },
  {
   "cell_type": "code",
   "execution_count": 10,
   "metadata": {
    "execution": {
     "iopub.execute_input": "2020-09-11T07:14:23.036161Z",
     "iopub.status.busy": "2020-09-11T07:14:23.034888Z",
     "iopub.status.idle": "2020-09-11T07:15:21.082233Z",
     "shell.execute_reply": "2020-09-11T07:15:21.082899Z"
    },
    "papermill": {
     "duration": 58.121172,
     "end_time": "2020-09-11T07:15:21.083047",
     "exception": false,
     "start_time": "2020-09-11T07:14:22.961875",
     "status": "completed"
    },
    "tags": []
   },
   "outputs": [
    {
     "name": "stdout",
     "output_type": "stream",
     "text": [
      "Number of models: 1\n"
     ]
    }
   ],
   "source": [
    "from tensorflow.keras.layers import (\n",
    "    Dense, Dropout, Activation, Flatten, Input, BatchNormalization, GlobalAveragePooling2D, Add, Conv2D, AveragePooling2D, \n",
    "    LeakyReLU, Concatenate \n",
    ")\n",
    "import efficientnet.tfkeras as efn\n",
    "\n",
    "def get_efficientnet(model, shape):\n",
    "    models_dict = {\n",
    "        'b0': efn.EfficientNetB0(input_shape=shape,weights=None,include_top=False),\n",
    "        'b1': efn.EfficientNetB1(input_shape=shape,weights=None,include_top=False),\n",
    "        'b2': efn.EfficientNetB2(input_shape=shape,weights=None,include_top=False),\n",
    "        'b3': efn.EfficientNetB3(input_shape=shape,weights=None,include_top=False),\n",
    "        'b4': efn.EfficientNetB4(input_shape=shape,weights=None,include_top=False),\n",
    "        'b5': efn.EfficientNetB5(input_shape=shape,weights=None,include_top=False),\n",
    "        'b6': efn.EfficientNetB6(input_shape=shape,weights=None,include_top=False),\n",
    "        'b7': efn.EfficientNetB7(input_shape=shape,weights=None,include_top=False)\n",
    "    }\n",
    "    return models_dict[model]\n",
    "\n",
    "def build_model(shape=(512, 512, 1), model_class=None):\n",
    "    inp = Input(shape=shape)\n",
    "    base = get_efficientnet(model_class, shape)\n",
    "    x = base(inp)\n",
    "    x = GlobalAveragePooling2D()(x)\n",
    "    inp2 = Input(shape=(4,))\n",
    "    x2 = tf.keras.layers.GaussianNoise(0.2)(inp2)\n",
    "    x = Concatenate()([x, x2]) \n",
    "    x = Dropout(Dropout_model)(x)\n",
    "    x = Dense(1)(x)\n",
    "    model = Model([inp, inp2] , x)\n",
    "    \n",
    "    weights = [w for w in os.listdir('../input/osic-model-weights') if model_class in w][0]\n",
    "    model.load_weights('../input/osic-model-weights/' + weights)\n",
    "    return model\n",
    "\n",
    "model_classes = ['b5'] #['b0','b1','b2','b3',b4','b5','b6','b7']\n",
    "models = [build_model(shape=(512, 512, 1), model_class=m) for m in model_classes]\n",
    "print('Number of models: ' + str(len(models)))"
   ]
  },
  {
   "cell_type": "code",
   "execution_count": 11,
   "metadata": {
    "execution": {
     "iopub.execute_input": "2020-09-11T07:15:21.201222Z",
     "iopub.status.busy": "2020-09-11T07:15:21.200349Z",
     "iopub.status.idle": "2020-09-11T07:15:21.203419Z",
     "shell.execute_reply": "2020-09-11T07:15:21.202898Z"
    },
    "papermill": {
     "duration": 0.064951,
     "end_time": "2020-09-11T07:15:21.203520",
     "exception": false,
     "start_time": "2020-09-11T07:15:21.138569",
     "status": "completed"
    },
    "tags": []
   },
   "outputs": [],
   "source": [
    "tr_p, vl_p = train_test_split(P, shuffle=True, train_size = 0.8) "
   ]
  },
  {
   "cell_type": "code",
   "execution_count": 12,
   "metadata": {
    "_kg_hide-input": true,
    "execution": {
     "iopub.execute_input": "2020-09-11T07:15:21.322912Z",
     "iopub.status.busy": "2020-09-11T07:15:21.322118Z",
     "iopub.status.idle": "2020-09-11T07:15:21.325480Z",
     "shell.execute_reply": "2020-09-11T07:15:21.325941Z"
    },
    "papermill": {
     "duration": 0.06557,
     "end_time": "2020-09-11T07:15:21.326078",
     "exception": false,
     "start_time": "2020-09-11T07:15:21.260508",
     "status": "completed"
    },
    "tags": []
   },
   "outputs": [],
   "source": [
    "def score(fvc_true, fvc_pred, sigma):\n",
    "    sigma_clip = np.maximum(sigma, 70) # changed from 70, trie 66.7 too\n",
    "    delta = np.abs(fvc_true - fvc_pred)\n",
    "    delta = np.minimum(delta, 1000)\n",
    "    sq2 = np.sqrt(2)\n",
    "    metric = (delta / sigma_clip)*sq2 + np.log(sigma_clip* sq2)\n",
    "    return np.mean(metric)"
   ]
  },
  {
   "cell_type": "code",
   "execution_count": 13,
   "metadata": {
    "execution": {
     "iopub.execute_input": "2020-09-11T07:15:21.464126Z",
     "iopub.status.busy": "2020-09-11T07:15:21.453798Z",
     "iopub.status.idle": "2020-09-11T07:31:11.485741Z",
     "shell.execute_reply": "2020-09-11T07:31:11.485079Z"
    },
    "papermill": {
     "duration": 950.102337,
     "end_time": "2020-09-11T07:31:11.485855",
     "exception": false,
     "start_time": "2020-09-11T07:15:21.383518",
     "status": "completed"
    },
    "tags": []
   },
   "outputs": [
    {
     "data": {
      "application/vnd.jupyter.widget-view+json": {
       "model_id": "b6047cd322ae443fb3cb7a20d204eb7b",
       "version_major": 2,
       "version_minor": 0
      },
      "text/plain": [
       "HBox(children=(FloatProgress(value=0.0, max=9.0), HTML(value='')))"
      ]
     },
     "metadata": {},
     "output_type": "display_data"
    },
    {
     "name": "stdout",
     "output_type": "stream",
     "text": [
      "6.7386115244278315\n",
      "6.7386157849118185\n",
      "6.738613409663092\n",
      "6.738611777632042\n",
      "6.738608976510854\n",
      "6.73860117497328\n",
      "6.738588805611822\n",
      "6.738575478981084\n",
      "6.73858318263184\n",
      "\n"
     ]
    }
   ],
   "source": [
    "subs = []\n",
    "for model in models:\n",
    "    metric = []\n",
    "    for q in tqdm(range(1, 10)):\n",
    "        m = []\n",
    "        for p in vl_p:\n",
    "            x = [] \n",
    "            tab = [] \n",
    "\n",
    "            if p in ['ID00011637202177653955184', 'ID00052637202186188008618']:\n",
    "                continue\n",
    "\n",
    "            ldir = os.listdir(f'../input/osic-pulmonary-fibrosis-progression/train/{p}/')\n",
    "            for i in ldir:\n",
    "                if int(i[:-4]) / len(ldir) < 0.8 and int(i[:-4]) / len(ldir) > 0.15:\n",
    "                    x.append(get_img(f'../input/osic-pulmonary-fibrosis-progression/train/{p}/{i}')) \n",
    "                    tab.append(get_tab(train.loc[train.Patient == p, :])) \n",
    "            if len(x) < 1:\n",
    "                continue\n",
    "            tab = np.array(tab) \n",
    "\n",
    "            x = np.expand_dims(x, axis=-1) \n",
    "            _a = model.predict([x, tab]) \n",
    "            a = np.quantile(_a, q / 10)\n",
    "\n",
    "            percent_true = train.Percent.values[train.Patient == p]\n",
    "            fvc_true = train.FVC.values[train.Patient == p]\n",
    "            weeks_true = train.Weeks.values[train.Patient == p]\n",
    "\n",
    "            fvc = a * (weeks_true - weeks_true[0]) + fvc_true[0]\n",
    "            percent = percent_true[0] - a * abs(weeks_true - weeks_true[0])\n",
    "            m.append(score(fvc_true, fvc, percent))\n",
    "        print(np.mean(m))\n",
    "        metric.append(np.mean(m))\n",
    "\n",
    "    q = (np.argmin(metric) + 1)/ 10\n",
    "\n",
    "    sub = pd.read_csv('../input/osic-pulmonary-fibrosis-progression/sample_submission.csv') \n",
    "    test = pd.read_csv('../input/osic-pulmonary-fibrosis-progression/test.csv') \n",
    "    A_test, B_test, P_test,W, FVC= {}, {}, {},{},{} \n",
    "    STD, WEEK = {}, {} \n",
    "    for p in test.Patient.unique():\n",
    "        x = [] \n",
    "        tab = [] \n",
    "        ldir = os.listdir(f'../input/osic-pulmonary-fibrosis-progression/test/{p}/')\n",
    "        for i in ldir:\n",
    "            if int(i[:-4]) / len(ldir) < 0.8 and int(i[:-4]) / len(ldir) > 0.15:\n",
    "                x.append(get_img(f'../input/osic-pulmonary-fibrosis-progression/test/{p}/{i}')) \n",
    "                tab.append(get_tab(test.loc[test.Patient == p, :])) \n",
    "        if len(x) <= 1:\n",
    "            continue\n",
    "        tab = np.array(tab) \n",
    "\n",
    "        x = np.expand_dims(x, axis=-1) \n",
    "        _a = model.predict([x, tab]) \n",
    "        a = np.quantile(_a, q)\n",
    "        A_test[p] = a\n",
    "        B_test[p] = test.FVC.values[test.Patient == p] - a*test.Weeks.values[test.Patient == p]\n",
    "        P_test[p] = test.Percent.values[test.Patient == p] \n",
    "        WEEK[p] = test.Weeks.values[test.Patient == p]\n",
    "\n",
    "    for k in sub.Patient_Week.values:\n",
    "        p, w = k.split('_')\n",
    "        w = int(w) \n",
    "\n",
    "        fvc = A_test[p] * w + B_test[p]\n",
    "        sub.loc[sub.Patient_Week == k, 'FVC'] = fvc\n",
    "        sub.loc[sub.Patient_Week == k, 'Confidence'] = (\n",
    "            P_test[p] - A_test[p] * abs(WEEK[p] - w) \n",
    "    ) \n",
    "\n",
    "    _sub = sub[[\"Patient_Week\",\"FVC\",\"Confidence\"]].copy()\n",
    "    subs.append(_sub)"
   ]
  },
  {
   "cell_type": "markdown",
   "metadata": {
    "papermill": {
     "duration": 0.05852,
     "end_time": "2020-09-11T07:31:11.605022",
     "exception": false,
     "start_time": "2020-09-11T07:31:11.546502",
     "status": "completed"
    },
    "tags": []
   },
   "source": [
    "## 4. Prediction and submission <a class=\"anchor\" id=\"4\"></a>\n",
    "\n",
    "[Back to Table of Contents](#0.1)"
   ]
  },
  {
   "cell_type": "markdown",
   "metadata": {
    "papermill": {
     "duration": 0.05881,
     "end_time": "2020-09-11T07:31:11.722600",
     "exception": false,
     "start_time": "2020-09-11T07:31:11.663790",
     "status": "completed"
    },
    "tags": []
   },
   "source": [
    "## 4.1 Average prediction <a class=\"anchor\" id=\"4.1\"></a>\n",
    "\n",
    "[Back to Table of Contents](#0.1)"
   ]
  },
  {
   "cell_type": "code",
   "execution_count": 14,
   "metadata": {
    "execution": {
     "iopub.execute_input": "2020-09-11T07:31:11.848074Z",
     "iopub.status.busy": "2020-09-11T07:31:11.847478Z",
     "iopub.status.idle": "2020-09-11T07:31:11.873418Z",
     "shell.execute_reply": "2020-09-11T07:31:11.872542Z"
    },
    "papermill": {
     "duration": 0.09266,
     "end_time": "2020-09-11T07:31:11.873522",
     "exception": false,
     "start_time": "2020-09-11T07:31:11.780862",
     "status": "completed"
    },
    "tags": []
   },
   "outputs": [],
   "source": [
    "N = len(subs)\n",
    "sub = subs[0].copy() # ref\n",
    "sub[\"FVC\"] = 0\n",
    "sub[\"Confidence\"] = 0\n",
    "for i in range(N):\n",
    "    sub[\"FVC\"] += subs[0][\"FVC\"] * (1/N)\n",
    "    sub[\"Confidence\"] += subs[0][\"Confidence\"] * (1/N)"
   ]
  },
  {
   "cell_type": "code",
   "execution_count": 15,
   "metadata": {
    "execution": {
     "iopub.execute_input": "2020-09-11T07:31:12.002522Z",
     "iopub.status.busy": "2020-09-11T07:31:12.001813Z",
     "iopub.status.idle": "2020-09-11T07:31:12.012015Z",
     "shell.execute_reply": "2020-09-11T07:31:12.012526Z"
    },
    "papermill": {
     "duration": 0.080691,
     "end_time": "2020-09-11T07:31:12.012649",
     "exception": false,
     "start_time": "2020-09-11T07:31:11.931958",
     "status": "completed"
    },
    "tags": []
   },
   "outputs": [
    {
     "data": {
      "text/html": [
       "<div>\n",
       "<style scoped>\n",
       "    .dataframe tbody tr th:only-of-type {\n",
       "        vertical-align: middle;\n",
       "    }\n",
       "\n",
       "    .dataframe tbody tr th {\n",
       "        vertical-align: top;\n",
       "    }\n",
       "\n",
       "    .dataframe thead th {\n",
       "        text-align: right;\n",
       "    }\n",
       "</style>\n",
       "<table border=\"1\" class=\"dataframe\">\n",
       "  <thead>\n",
       "    <tr style=\"text-align: right;\">\n",
       "      <th></th>\n",
       "      <th>Patient_Week</th>\n",
       "      <th>FVC</th>\n",
       "      <th>Confidence</th>\n",
       "    </tr>\n",
       "  </thead>\n",
       "  <tbody>\n",
       "    <tr>\n",
       "      <th>0</th>\n",
       "      <td>ID00419637202311204720264_-12</td>\n",
       "      <td>3092.863664</td>\n",
       "      <td>143.050520</td>\n",
       "    </tr>\n",
       "    <tr>\n",
       "      <th>1</th>\n",
       "      <td>ID00421637202311550012437_-12</td>\n",
       "      <td>2847.459621</td>\n",
       "      <td>190.504912</td>\n",
       "    </tr>\n",
       "    <tr>\n",
       "      <th>2</th>\n",
       "      <td>ID00422637202311677017371_-12</td>\n",
       "      <td>2002.654819</td>\n",
       "      <td>149.327313</td>\n",
       "    </tr>\n",
       "    <tr>\n",
       "      <th>3</th>\n",
       "      <td>ID00423637202312137826377_-12</td>\n",
       "      <td>3410.692459</td>\n",
       "      <td>195.951362</td>\n",
       "    </tr>\n",
       "    <tr>\n",
       "      <th>4</th>\n",
       "      <td>ID00426637202313170790466_-12</td>\n",
       "      <td>2971.430485</td>\n",
       "      <td>118.255453</td>\n",
       "    </tr>\n",
       "  </tbody>\n",
       "</table>\n",
       "</div>"
      ],
      "text/plain": [
       "                    Patient_Week          FVC  Confidence\n",
       "0  ID00419637202311204720264_-12  3092.863664  143.050520\n",
       "1  ID00421637202311550012437_-12  2847.459621  190.504912\n",
       "2  ID00422637202311677017371_-12  2002.654819  149.327313\n",
       "3  ID00423637202312137826377_-12  3410.692459  195.951362\n",
       "4  ID00426637202313170790466_-12  2971.430485  118.255453"
      ]
     },
     "execution_count": 15,
     "metadata": {},
     "output_type": "execute_result"
    }
   ],
   "source": [
    "sub.head()"
   ]
  },
  {
   "cell_type": "code",
   "execution_count": 16,
   "metadata": {
    "execution": {
     "iopub.execute_input": "2020-09-11T07:31:12.142302Z",
     "iopub.status.busy": "2020-09-11T07:31:12.141694Z",
     "iopub.status.idle": "2020-09-11T07:31:12.327460Z",
     "shell.execute_reply": "2020-09-11T07:31:12.326435Z"
    },
    "papermill": {
     "duration": 0.251277,
     "end_time": "2020-09-11T07:31:12.327613",
     "exception": false,
     "start_time": "2020-09-11T07:31:12.076336",
     "status": "completed"
    },
    "tags": []
   },
   "outputs": [],
   "source": [
    "sub[[\"Patient_Week\",\"FVC\",\"Confidence\"]].to_csv(\"submission_img.csv\", index=False)"
   ]
  },
  {
   "cell_type": "code",
   "execution_count": 17,
   "metadata": {
    "execution": {
     "iopub.execute_input": "2020-09-11T07:31:12.454603Z",
     "iopub.status.busy": "2020-09-11T07:31:12.452866Z",
     "iopub.status.idle": "2020-09-11T07:31:12.455606Z",
     "shell.execute_reply": "2020-09-11T07:31:12.456122Z"
    },
    "papermill": {
     "duration": 0.069012,
     "end_time": "2020-09-11T07:31:12.456275",
     "exception": false,
     "start_time": "2020-09-11T07:31:12.387263",
     "status": "completed"
    },
    "tags": []
   },
   "outputs": [],
   "source": [
    "img_sub = sub[[\"Patient_Week\",\"FVC\",\"Confidence\"]].copy()"
   ]
  },
  {
   "cell_type": "markdown",
   "metadata": {
    "papermill": {
     "duration": 0.060423,
     "end_time": "2020-09-11T07:31:12.577292",
     "exception": false,
     "start_time": "2020-09-11T07:31:12.516869",
     "status": "completed"
    },
    "tags": []
   },
   "source": [
    "## 4.2 Osic-Multiple-Quantile-Regression <a class=\"anchor\" id=\"4.2\"></a>\n",
    "\n",
    "[Back to Table of Contents](#0.1)"
   ]
  },
  {
   "cell_type": "code",
   "execution_count": 18,
   "metadata": {
    "execution": {
     "iopub.execute_input": "2020-09-11T07:31:12.709264Z",
     "iopub.status.busy": "2020-09-11T07:31:12.708385Z",
     "iopub.status.idle": "2020-09-11T07:31:12.752726Z",
     "shell.execute_reply": "2020-09-11T07:31:12.753585Z"
    },
    "papermill": {
     "duration": 0.116582,
     "end_time": "2020-09-11T07:31:12.753797",
     "exception": false,
     "start_time": "2020-09-11T07:31:12.637215",
     "status": "completed"
    },
    "tags": []
   },
   "outputs": [
    {
     "name": "stdout",
     "output_type": "stream",
     "text": [
      "add infos\n"
     ]
    }
   ],
   "source": [
    "ROOT = \"../input/osic-pulmonary-fibrosis-progression\"\n",
    "BATCH_SIZE=128\n",
    "\n",
    "tr = pd.read_csv(f\"{ROOT}/train.csv\")\n",
    "tr.drop_duplicates(keep=False, inplace=True, subset=['Patient','Weeks'])\n",
    "chunk = pd.read_csv(f\"{ROOT}/test.csv\")\n",
    "\n",
    "print(\"add infos\")\n",
    "sub = pd.read_csv(f\"{ROOT}/sample_submission.csv\")\n",
    "sub['Patient'] = sub['Patient_Week'].apply(lambda x:x.split('_')[0])\n",
    "sub['Weeks'] = sub['Patient_Week'].apply(lambda x: int(x.split('_')[-1]))\n",
    "sub =  sub[['Patient','Weeks','Confidence','Patient_Week']]\n",
    "sub = sub.merge(chunk.drop('Weeks', axis=1), on=\"Patient\")"
   ]
  },
  {
   "cell_type": "code",
   "execution_count": 19,
   "metadata": {
    "execution": {
     "iopub.execute_input": "2020-09-11T07:31:12.887502Z",
     "iopub.status.busy": "2020-09-11T07:31:12.886657Z",
     "iopub.status.idle": "2020-09-11T07:31:12.890355Z",
     "shell.execute_reply": "2020-09-11T07:31:12.889795Z"
    },
    "papermill": {
     "duration": 0.076637,
     "end_time": "2020-09-11T07:31:12.890458",
     "exception": false,
     "start_time": "2020-09-11T07:31:12.813821",
     "status": "completed"
    },
    "tags": []
   },
   "outputs": [],
   "source": [
    "tr['WHERE'] = 'train'\n",
    "chunk['WHERE'] = 'val'\n",
    "sub['WHERE'] = 'test'\n",
    "data = tr.append([chunk, sub])"
   ]
  },
  {
   "cell_type": "code",
   "execution_count": 20,
   "metadata": {
    "execution": {
     "iopub.execute_input": "2020-09-11T07:31:13.016309Z",
     "iopub.status.busy": "2020-09-11T07:31:13.015331Z",
     "iopub.status.idle": "2020-09-11T07:31:13.023905Z",
     "shell.execute_reply": "2020-09-11T07:31:13.023274Z"
    },
    "papermill": {
     "duration": 0.074187,
     "end_time": "2020-09-11T07:31:13.024022",
     "exception": false,
     "start_time": "2020-09-11T07:31:12.949835",
     "status": "completed"
    },
    "tags": []
   },
   "outputs": [
    {
     "name": "stdout",
     "output_type": "stream",
     "text": [
      "(1535, 8) (5, 8) (730, 10) (2270, 10)\n",
      "176 5 5 176\n"
     ]
    }
   ],
   "source": [
    "print(tr.shape, chunk.shape, sub.shape, data.shape)\n",
    "print(tr.Patient.nunique(), chunk.Patient.nunique(), sub.Patient.nunique(), \n",
    "      data.Patient.nunique())"
   ]
  },
  {
   "cell_type": "code",
   "execution_count": 21,
   "metadata": {
    "execution": {
     "iopub.execute_input": "2020-09-11T07:31:13.155648Z",
     "iopub.status.busy": "2020-09-11T07:31:13.154676Z",
     "iopub.status.idle": "2020-09-11T07:31:13.168144Z",
     "shell.execute_reply": "2020-09-11T07:31:13.167629Z"
    },
    "papermill": {
     "duration": 0.08226,
     "end_time": "2020-09-11T07:31:13.168262",
     "exception": false,
     "start_time": "2020-09-11T07:31:13.086002",
     "status": "completed"
    },
    "tags": []
   },
   "outputs": [],
   "source": [
    "data['min_week'] = data['Weeks']\n",
    "data.loc[data.WHERE=='test','min_week'] = np.nan\n",
    "data['min_week'] = data.groupby('Patient')['min_week'].transform('min')"
   ]
  },
  {
   "cell_type": "code",
   "execution_count": 22,
   "metadata": {
    "execution": {
     "iopub.execute_input": "2020-09-11T07:31:13.306897Z",
     "iopub.status.busy": "2020-09-11T07:31:13.306108Z",
     "iopub.status.idle": "2020-09-11T07:31:13.309196Z",
     "shell.execute_reply": "2020-09-11T07:31:13.308734Z"
    },
    "papermill": {
     "duration": 0.079367,
     "end_time": "2020-09-11T07:31:13.309314",
     "exception": false,
     "start_time": "2020-09-11T07:31:13.229947",
     "status": "completed"
    },
    "tags": []
   },
   "outputs": [],
   "source": [
    "base = data.loc[data.Weeks == data.min_week]\n",
    "base = base[['Patient','FVC']].copy()\n",
    "base.columns = ['Patient','min_FVC']\n",
    "base['nb'] = 1\n",
    "base['nb'] = base.groupby('Patient')['nb'].transform('cumsum')\n",
    "base = base[base.nb==1]\n",
    "base.drop('nb', axis=1, inplace=True)"
   ]
  },
  {
   "cell_type": "code",
   "execution_count": 23,
   "metadata": {
    "execution": {
     "iopub.execute_input": "2020-09-11T07:31:13.439448Z",
     "iopub.status.busy": "2020-09-11T07:31:13.438592Z",
     "iopub.status.idle": "2020-09-11T07:31:13.457404Z",
     "shell.execute_reply": "2020-09-11T07:31:13.456873Z"
    },
    "papermill": {
     "duration": 0.08807,
     "end_time": "2020-09-11T07:31:13.457550",
     "exception": false,
     "start_time": "2020-09-11T07:31:13.369480",
     "status": "completed"
    },
    "tags": []
   },
   "outputs": [],
   "source": [
    "data = data.merge(base, on='Patient', how='left')\n",
    "data['base_week'] = data['Weeks'] - data['min_week']\n",
    "del base"
   ]
  },
  {
   "cell_type": "code",
   "execution_count": 24,
   "metadata": {
    "execution": {
     "iopub.execute_input": "2020-09-11T07:31:13.588159Z",
     "iopub.status.busy": "2020-09-11T07:31:13.587288Z",
     "iopub.status.idle": "2020-09-11T07:31:13.593857Z",
     "shell.execute_reply": "2020-09-11T07:31:13.594413Z"
    },
    "papermill": {
     "duration": 0.076691,
     "end_time": "2020-09-11T07:31:13.594540",
     "exception": false,
     "start_time": "2020-09-11T07:31:13.517849",
     "status": "completed"
    },
    "tags": []
   },
   "outputs": [],
   "source": [
    "COLS = ['Sex','SmokingStatus'] #,'Age'\n",
    "FE = []\n",
    "for col in COLS:\n",
    "    for mod in data[col].unique():\n",
    "        FE.append(mod)\n",
    "        data[mod] = (data[col] == mod).astype(int)"
   ]
  },
  {
   "cell_type": "code",
   "execution_count": 25,
   "metadata": {
    "execution": {
     "iopub.execute_input": "2020-09-11T07:31:13.724484Z",
     "iopub.status.busy": "2020-09-11T07:31:13.723785Z",
     "iopub.status.idle": "2020-09-11T07:31:13.735555Z",
     "shell.execute_reply": "2020-09-11T07:31:13.735012Z"
    },
    "papermill": {
     "duration": 0.081696,
     "end_time": "2020-09-11T07:31:13.735655",
     "exception": false,
     "start_time": "2020-09-11T07:31:13.653959",
     "status": "completed"
    },
    "tags": []
   },
   "outputs": [],
   "source": [
    "#\n",
    "data['age'] = (data['Age'] - data['Age'].min() ) / ( data['Age'].max() - data['Age'].min() )\n",
    "data['BASE'] = (data['min_FVC'] - data['min_FVC'].min() ) / ( data['min_FVC'].max() - data['min_FVC'].min() )\n",
    "data['week'] = (data['base_week'] - data['base_week'].min() ) / ( data['base_week'].max() - data['base_week'].min() )\n",
    "data['percent'] = (data['Percent'] - data['Percent'].min() ) / ( data['Percent'].max() - data['Percent'].min() )\n",
    "FE += ['age','percent','week','BASE']"
   ]
  },
  {
   "cell_type": "code",
   "execution_count": 26,
   "metadata": {
    "execution": {
     "iopub.execute_input": "2020-09-11T07:31:13.862190Z",
     "iopub.status.busy": "2020-09-11T07:31:13.861322Z",
     "iopub.status.idle": "2020-09-11T07:31:13.868312Z",
     "shell.execute_reply": "2020-09-11T07:31:13.867819Z"
    },
    "papermill": {
     "duration": 0.072787,
     "end_time": "2020-09-11T07:31:13.868418",
     "exception": false,
     "start_time": "2020-09-11T07:31:13.795631",
     "status": "completed"
    },
    "tags": []
   },
   "outputs": [],
   "source": [
    "tr = data.loc[data.WHERE=='train']\n",
    "chunk = data.loc[data.WHERE=='val']\n",
    "sub = data.loc[data.WHERE=='test']\n",
    "del data"
   ]
  },
  {
   "cell_type": "code",
   "execution_count": 27,
   "metadata": {
    "execution": {
     "iopub.execute_input": "2020-09-11T07:31:13.994636Z",
     "iopub.status.busy": "2020-09-11T07:31:13.993852Z",
     "iopub.status.idle": "2020-09-11T07:31:13.998970Z",
     "shell.execute_reply": "2020-09-11T07:31:13.999536Z"
    },
    "papermill": {
     "duration": 0.070498,
     "end_time": "2020-09-11T07:31:13.999663",
     "exception": false,
     "start_time": "2020-09-11T07:31:13.929165",
     "status": "completed"
    },
    "tags": []
   },
   "outputs": [
    {
     "data": {
      "text/plain": [
       "((1535, 22), (5, 22), (730, 22))"
      ]
     },
     "execution_count": 27,
     "metadata": {},
     "output_type": "execute_result"
    }
   ],
   "source": [
    "tr.shape, chunk.shape, sub.shape"
   ]
  },
  {
   "cell_type": "markdown",
   "metadata": {
    "papermill": {
     "duration": 0.07206,
     "end_time": "2020-09-11T07:31:14.133007",
     "exception": false,
     "start_time": "2020-09-11T07:31:14.060947",
     "status": "completed"
    },
    "tags": []
   },
   "source": [
    "## 4.3 The change of mloss <a class=\"anchor\" id=\"4.3\"></a>\n",
    "\n",
    "[Back to Table of Contents](#0.1)"
   ]
  },
  {
   "cell_type": "code",
   "execution_count": 28,
   "metadata": {
    "execution": {
     "iopub.execute_input": "2020-09-11T07:31:14.289957Z",
     "iopub.status.busy": "2020-09-11T07:31:14.289136Z",
     "iopub.status.idle": "2020-09-11T07:31:14.292286Z",
     "shell.execute_reply": "2020-09-11T07:31:14.291781Z"
    },
    "papermill": {
     "duration": 0.084875,
     "end_time": "2020-09-11T07:31:14.292396",
     "exception": false,
     "start_time": "2020-09-11T07:31:14.207521",
     "status": "completed"
    },
    "tags": []
   },
   "outputs": [],
   "source": [
    "C1, C2 = tf.constant(70, dtype='float32'), tf.constant(1000, dtype=\"float32\")\n",
    "\n",
    "def score(y_true, y_pred):\n",
    "    tf.dtypes.cast(y_true, tf.float32)\n",
    "    tf.dtypes.cast(y_pred, tf.float32)\n",
    "    sigma = y_pred[:, 2] - y_pred[:, 0]\n",
    "    fvc_pred = y_pred[:, 1]\n",
    "    \n",
    "    #sigma_clip = sigma + C1\n",
    "    sigma_clip = tf.maximum(sigma, C1)\n",
    "    delta = tf.abs(y_true[:, 0] - fvc_pred)\n",
    "    delta = tf.minimum(delta, C2)\n",
    "    sq2 = tf.sqrt( tf.dtypes.cast(2, dtype=tf.float32) )\n",
    "    metric = (delta / sigma_clip)*sq2 + tf.math.log(sigma_clip* sq2)\n",
    "    return K.mean(metric)\n",
    "\n",
    "def qloss(y_true, y_pred):\n",
    "    # Pinball loss for multiple quantiles\n",
    "    qs = [0.2, 0.50, 0.8]\n",
    "    q = tf.constant(np.array([qs]), dtype=tf.float32)\n",
    "    e = y_true - y_pred\n",
    "    v = tf.maximum(q*e, (q-1)*e)\n",
    "    return K.mean(v)\n",
    "\n",
    "def mloss(_lambda):\n",
    "    def loss(y_true, y_pred):\n",
    "        return _lambda * qloss(y_true, y_pred) + (1 - _lambda)*score(y_true, y_pred)\n",
    "    return loss\n",
    "\n",
    "def make_model(nh):\n",
    "    z = L.Input((nh,), name=\"Patient\")\n",
    "    x = L.Dense(100, activation=\"relu\", name=\"d1\")(z)\n",
    "    x = L.Dense(100, activation=\"relu\", name=\"d2\")(x)\n",
    "    p1 = L.Dense(3, activation=\"linear\", name=\"p1\")(x)\n",
    "    p2 = L.Dense(3, activation=\"relu\", name=\"p2\")(x)\n",
    "    preds = L.Lambda(lambda x: x[0] + tf.cumsum(x[1], axis=1), \n",
    "                     name=\"preds\")([p1, p2])\n",
    "    \n",
    "    model = M.Model(z, preds, name=\"CNN\")\n",
    "    model.compile(loss=mloss(0.65), optimizer=tf.keras.optimizers.Adam(lr=0.1, beta_1=0.9, beta_2=0.999, epsilon=None, decay=0.01, amsgrad=False), metrics=[score])\n",
    "    return model"
   ]
  },
  {
   "cell_type": "code",
   "execution_count": 29,
   "metadata": {
    "execution": {
     "iopub.execute_input": "2020-09-11T07:31:14.422474Z",
     "iopub.status.busy": "2020-09-11T07:31:14.421742Z",
     "iopub.status.idle": "2020-09-11T07:31:14.424881Z",
     "shell.execute_reply": "2020-09-11T07:31:14.424372Z"
    },
    "papermill": {
     "duration": 0.072677,
     "end_time": "2020-09-11T07:31:14.424998",
     "exception": false,
     "start_time": "2020-09-11T07:31:14.352321",
     "status": "completed"
    },
    "tags": []
   },
   "outputs": [],
   "source": [
    "y = tr['FVC'].values\n",
    "z = tr[FE].values\n",
    "ze = sub[FE].values\n",
    "nh = z.shape[1]\n",
    "pe = np.zeros((ze.shape[0], 3))\n",
    "pred = np.zeros((z.shape[0], 3))"
   ]
  },
  {
   "cell_type": "code",
   "execution_count": 30,
   "metadata": {
    "execution": {
     "iopub.execute_input": "2020-09-11T07:31:14.555178Z",
     "iopub.status.busy": "2020-09-11T07:31:14.554286Z",
     "iopub.status.idle": "2020-09-11T07:31:14.632016Z",
     "shell.execute_reply": "2020-09-11T07:31:14.631502Z"
    },
    "papermill": {
     "duration": 0.146137,
     "end_time": "2020-09-11T07:31:14.632118",
     "exception": false,
     "start_time": "2020-09-11T07:31:14.485981",
     "status": "completed"
    },
    "tags": []
   },
   "outputs": [
    {
     "name": "stdout",
     "output_type": "stream",
     "text": [
      "Model: \"CNN\"\n",
      "__________________________________________________________________________________________________\n",
      "Layer (type)                    Output Shape         Param #     Connected to                     \n",
      "==================================================================================================\n",
      "Patient (InputLayer)            [(None, 9)]          0                                            \n",
      "__________________________________________________________________________________________________\n",
      "d1 (Dense)                      (None, 100)          1000        Patient[0][0]                    \n",
      "__________________________________________________________________________________________________\n",
      "d2 (Dense)                      (None, 100)          10100       d1[0][0]                         \n",
      "__________________________________________________________________________________________________\n",
      "p1 (Dense)                      (None, 3)            303         d2[0][0]                         \n",
      "__________________________________________________________________________________________________\n",
      "p2 (Dense)                      (None, 3)            303         d2[0][0]                         \n",
      "__________________________________________________________________________________________________\n",
      "preds (Lambda)                  (None, 3)            0           p1[0][0]                         \n",
      "                                                                 p2[0][0]                         \n",
      "==================================================================================================\n",
      "Total params: 11,706\n",
      "Trainable params: 11,706\n",
      "Non-trainable params: 0\n",
      "__________________________________________________________________________________________________\n",
      "None\n",
      "11706\n"
     ]
    }
   ],
   "source": [
    "net = make_model(nh)\n",
    "print(net.summary())\n",
    "print(net.count_params())"
   ]
  },
  {
   "cell_type": "code",
   "execution_count": 31,
   "metadata": {
    "execution": {
     "iopub.execute_input": "2020-09-11T07:31:14.761993Z",
     "iopub.status.busy": "2020-09-11T07:31:14.760316Z",
     "iopub.status.idle": "2020-09-11T07:31:14.762759Z",
     "shell.execute_reply": "2020-09-11T07:31:14.763255Z"
    },
    "papermill": {
     "duration": 0.069116,
     "end_time": "2020-09-11T07:31:14.763373",
     "exception": false,
     "start_time": "2020-09-11T07:31:14.694257",
     "status": "completed"
    },
    "tags": []
   },
   "outputs": [],
   "source": [
    "NFOLD = 5 # originally 5\n",
    "kf = KFold(n_splits=NFOLD)"
   ]
  },
  {
   "cell_type": "code",
   "execution_count": 32,
   "metadata": {
    "execution": {
     "iopub.execute_input": "2020-09-11T07:31:14.892880Z",
     "iopub.status.busy": "2020-09-11T07:31:14.892078Z",
     "iopub.status.idle": "2020-09-11T07:34:55.043847Z",
     "shell.execute_reply": "2020-09-11T07:34:55.044800Z"
    },
    "papermill": {
     "duration": 220.221673,
     "end_time": "2020-09-11T07:34:55.045078",
     "exception": false,
     "start_time": "2020-09-11T07:31:14.823405",
     "status": "completed"
    },
    "tags": []
   },
   "outputs": [
    {
     "name": "stdout",
     "output_type": "stream",
     "text": [
      "FOLD 1\n",
      "train [34.270294189453125, 6.5156707763671875]\n",
      "val [40.800174713134766, 6.8280181884765625]\n",
      "predict val...\n",
      "predict test...\n",
      "FOLD 2\n",
      "train [32.519371032714844, 6.4652419090271]\n",
      "val [46.78581237792969, 6.9267354011535645]\n",
      "predict val...\n",
      "predict test...\n",
      "FOLD 3\n",
      "train [31.835479736328125, 6.43258810043335]\n",
      "val [48.41448974609375, 6.77881383895874]\n",
      "predict val...\n",
      "predict test...\n",
      "FOLD 4\n",
      "train [34.68970489501953, 6.536044120788574]\n",
      "val [35.38454055786133, 6.5555291175842285]\n",
      "predict val...\n",
      "predict test...\n",
      "FOLD 5\n",
      "train [31.715721130371094, 6.435450553894043]\n",
      "val [40.85200500488281, 6.7743000984191895]\n",
      "predict val...\n",
      "predict test...\n",
      "CPU times: user 4min 3s, sys: 16.3 s, total: 4min 19s\n",
      "Wall time: 3min 40s\n"
     ]
    }
   ],
   "source": [
    "%%time\n",
    "cnt = 0\n",
    "EPOCHS = 800\n",
    "for tr_idx, val_idx in kf.split(z):\n",
    "    cnt += 1\n",
    "    print(f\"FOLD {cnt}\")\n",
    "    net = make_model(nh)\n",
    "    net.fit(z[tr_idx], y[tr_idx], batch_size=BATCH_SIZE, epochs=EPOCHS, \n",
    "            validation_data=(z[val_idx], y[val_idx]), verbose=0) #\n",
    "    print(\"train\", net.evaluate(z[tr_idx], y[tr_idx], verbose=0, batch_size=BATCH_SIZE))\n",
    "    print(\"val\", net.evaluate(z[val_idx], y[val_idx], verbose=0, batch_size=BATCH_SIZE))\n",
    "    print(\"predict val...\")\n",
    "    pred[val_idx] = net.predict(z[val_idx], batch_size=BATCH_SIZE, verbose=0)\n",
    "    print(\"predict test...\")\n",
    "    pe += net.predict(ze, batch_size=BATCH_SIZE, verbose=0) / NFOLD"
   ]
  },
  {
   "cell_type": "code",
   "execution_count": 33,
   "metadata": {
    "execution": {
     "iopub.execute_input": "2020-09-11T07:34:55.199942Z",
     "iopub.status.busy": "2020-09-11T07:34:55.199047Z",
     "iopub.status.idle": "2020-09-11T07:34:55.206559Z",
     "shell.execute_reply": "2020-09-11T07:34:55.207304Z"
    },
    "papermill": {
     "duration": 0.093673,
     "end_time": "2020-09-11T07:34:55.207476",
     "exception": false,
     "start_time": "2020-09-11T07:34:55.113803",
     "status": "completed"
    },
    "tags": []
   },
   "outputs": [
    {
     "name": "stdout",
     "output_type": "stream",
     "text": [
      "147.54794297606625 229.72440153737023\n"
     ]
    }
   ],
   "source": [
    "sigma_opt = mean_absolute_error(y, pred[:, 1])\n",
    "unc = pred[:,2] - pred[:, 0]\n",
    "sigma_mean = np.mean(unc)\n",
    "print(sigma_opt, sigma_mean)"
   ]
  },
  {
   "cell_type": "code",
   "execution_count": 34,
   "metadata": {
    "execution": {
     "iopub.execute_input": "2020-09-11T07:34:55.353360Z",
     "iopub.status.busy": "2020-09-11T07:34:55.352703Z",
     "iopub.status.idle": "2020-09-11T07:34:55.589758Z",
     "shell.execute_reply": "2020-09-11T07:34:55.588813Z"
    },
    "papermill": {
     "duration": 0.310762,
     "end_time": "2020-09-11T07:34:55.589874",
     "exception": false,
     "start_time": "2020-09-11T07:34:55.279112",
     "status": "completed"
    },
    "tags": []
   },
   "outputs": [
    {
     "data": {
      "image/png": "[encoded data removed]",
      "text/plain": [
       "<Figure size 432x288 with 1 Axes>"
      ]
     },
     "metadata": {
      "needs_background": "light"
     },
     "output_type": "display_data"
    }
   ],
   "source": [
    "idxs = np.random.randint(0, y.shape[0], 100)\n",
    "plt.plot(y[idxs], label=\"ground truth\")\n",
    "plt.plot(pred[idxs, 0], label=\"q25\")\n",
    "plt.plot(pred[idxs, 1], label=\"q50\")\n",
    "plt.plot(pred[idxs, 2], label=\"q75\")\n",
    "plt.legend(loc=\"best\")\n",
    "plt.show()"
   ]
  },
  {
   "cell_type": "code",
   "execution_count": 35,
   "metadata": {
    "execution": {
     "iopub.execute_input": "2020-09-11T07:34:55.730798Z",
     "iopub.status.busy": "2020-09-11T07:34:55.729989Z",
     "iopub.status.idle": "2020-09-11T07:34:55.734638Z",
     "shell.execute_reply": "2020-09-11T07:34:55.735190Z"
    },
    "papermill": {
     "duration": 0.076289,
     "end_time": "2020-09-11T07:34:55.735338",
     "exception": false,
     "start_time": "2020-09-11T07:34:55.659049",
     "status": "completed"
    },
    "tags": []
   },
   "outputs": [
    {
     "name": "stdout",
     "output_type": "stream",
     "text": [
      "11.528076171875 229.72440153737023 385.3076171875 1.0\n"
     ]
    }
   ],
   "source": [
    "print(unc.min(), unc.mean(), unc.max(), (unc>=0).mean())"
   ]
  },
  {
   "cell_type": "code",
   "execution_count": 36,
   "metadata": {
    "execution": {
     "iopub.execute_input": "2020-09-11T07:34:55.882760Z",
     "iopub.status.busy": "2020-09-11T07:34:55.879311Z",
     "iopub.status.idle": "2020-09-11T07:34:56.070905Z",
     "shell.execute_reply": "2020-09-11T07:34:56.069970Z"
    },
    "papermill": {
     "duration": 0.270314,
     "end_time": "2020-09-11T07:34:56.071043",
     "exception": false,
     "start_time": "2020-09-11T07:34:55.800729",
     "status": "completed"
    },
    "tags": []
   },
   "outputs": [
    {
     "data": {
      "image/png": "[encoded data removed]",
      "text/plain": [
       "<Figure size 432x288 with 1 Axes>"
      ]
     },
     "metadata": {
      "needs_background": "light"
     },
     "output_type": "display_data"
    }
   ],
   "source": [
    "plt.hist(unc)\n",
    "plt.title(\"uncertainty in prediction\")\n",
    "plt.show()"
   ]
  },
  {
   "cell_type": "code",
   "execution_count": 37,
   "metadata": {
    "execution": {
     "iopub.execute_input": "2020-09-11T07:34:56.254408Z",
     "iopub.status.busy": "2020-09-11T07:34:56.253753Z",
     "iopub.status.idle": "2020-09-11T07:34:56.259115Z",
     "shell.execute_reply": "2020-09-11T07:34:56.259663Z"
    },
    "papermill": {
     "duration": 0.116981,
     "end_time": "2020-09-11T07:34:56.259787",
     "exception": false,
     "start_time": "2020-09-11T07:34:56.142806",
     "status": "completed"
    },
    "tags": []
   },
   "outputs": [
    {
     "data": {
      "text/html": [
       "<div>\n",
       "<style scoped>\n",
       "    .dataframe tbody tr th:only-of-type {\n",
       "        vertical-align: middle;\n",
       "    }\n",
       "\n",
       "    .dataframe tbody tr th {\n",
       "        vertical-align: top;\n",
       "    }\n",
       "\n",
       "    .dataframe thead th {\n",
       "        text-align: right;\n",
       "    }\n",
       "</style>\n",
       "<table border=\"1\" class=\"dataframe\">\n",
       "  <thead>\n",
       "    <tr style=\"text-align: right;\">\n",
       "      <th></th>\n",
       "      <th>Patient</th>\n",
       "      <th>Weeks</th>\n",
       "      <th>FVC</th>\n",
       "      <th>Percent</th>\n",
       "      <th>Age</th>\n",
       "      <th>Sex</th>\n",
       "      <th>SmokingStatus</th>\n",
       "      <th>WHERE</th>\n",
       "      <th>Confidence</th>\n",
       "      <th>Patient_Week</th>\n",
       "      <th>...</th>\n",
       "      <th>base_week</th>\n",
       "      <th>Male</th>\n",
       "      <th>Female</th>\n",
       "      <th>Ex-smoker</th>\n",
       "      <th>Never smoked</th>\n",
       "      <th>Currently smokes</th>\n",
       "      <th>age</th>\n",
       "      <th>BASE</th>\n",
       "      <th>week</th>\n",
       "      <th>percent</th>\n",
       "    </tr>\n",
       "  </thead>\n",
       "  <tbody>\n",
       "    <tr>\n",
       "      <th>1540</th>\n",
       "      <td>ID00419637202311204720264</td>\n",
       "      <td>-12</td>\n",
       "      <td>3020</td>\n",
       "      <td>70.186855</td>\n",
       "      <td>73</td>\n",
       "      <td>Male</td>\n",
       "      <td>Ex-smoker</td>\n",
       "      <td>test</td>\n",
       "      <td>100.0</td>\n",
       "      <td>ID00419637202311204720264_-12</td>\n",
       "      <td>...</td>\n",
       "      <td>-18.0</td>\n",
       "      <td>1</td>\n",
       "      <td>0</td>\n",
       "      <td>1</td>\n",
       "      <td>0</td>\n",
       "      <td>0</td>\n",
       "      <td>0.615385</td>\n",
       "      <td>0.3724</td>\n",
       "      <td>0.067901</td>\n",
       "      <td>0.332421</td>\n",
       "    </tr>\n",
       "    <tr>\n",
       "      <th>1541</th>\n",
       "      <td>ID00419637202311204720264</td>\n",
       "      <td>-11</td>\n",
       "      <td>3020</td>\n",
       "      <td>70.186855</td>\n",
       "      <td>73</td>\n",
       "      <td>Male</td>\n",
       "      <td>Ex-smoker</td>\n",
       "      <td>test</td>\n",
       "      <td>100.0</td>\n",
       "      <td>ID00419637202311204720264_-11</td>\n",
       "      <td>...</td>\n",
       "      <td>-17.0</td>\n",
       "      <td>1</td>\n",
       "      <td>0</td>\n",
       "      <td>1</td>\n",
       "      <td>0</td>\n",
       "      <td>0</td>\n",
       "      <td>0.615385</td>\n",
       "      <td>0.3724</td>\n",
       "      <td>0.074074</td>\n",
       "      <td>0.332421</td>\n",
       "    </tr>\n",
       "    <tr>\n",
       "      <th>1542</th>\n",
       "      <td>ID00419637202311204720264</td>\n",
       "      <td>-10</td>\n",
       "      <td>3020</td>\n",
       "      <td>70.186855</td>\n",
       "      <td>73</td>\n",
       "      <td>Male</td>\n",
       "      <td>Ex-smoker</td>\n",
       "      <td>test</td>\n",
       "      <td>100.0</td>\n",
       "      <td>ID00419637202311204720264_-10</td>\n",
       "      <td>...</td>\n",
       "      <td>-16.0</td>\n",
       "      <td>1</td>\n",
       "      <td>0</td>\n",
       "      <td>1</td>\n",
       "      <td>0</td>\n",
       "      <td>0</td>\n",
       "      <td>0.615385</td>\n",
       "      <td>0.3724</td>\n",
       "      <td>0.080247</td>\n",
       "      <td>0.332421</td>\n",
       "    </tr>\n",
       "    <tr>\n",
       "      <th>1543</th>\n",
       "      <td>ID00419637202311204720264</td>\n",
       "      <td>-9</td>\n",
       "      <td>3020</td>\n",
       "      <td>70.186855</td>\n",
       "      <td>73</td>\n",
       "      <td>Male</td>\n",
       "      <td>Ex-smoker</td>\n",
       "      <td>test</td>\n",
       "      <td>100.0</td>\n",
       "      <td>ID00419637202311204720264_-9</td>\n",
       "      <td>...</td>\n",
       "      <td>-15.0</td>\n",
       "      <td>1</td>\n",
       "      <td>0</td>\n",
       "      <td>1</td>\n",
       "      <td>0</td>\n",
       "      <td>0</td>\n",
       "      <td>0.615385</td>\n",
       "      <td>0.3724</td>\n",
       "      <td>0.086420</td>\n",
       "      <td>0.332421</td>\n",
       "    </tr>\n",
       "    <tr>\n",
       "      <th>1544</th>\n",
       "      <td>ID00419637202311204720264</td>\n",
       "      <td>-8</td>\n",
       "      <td>3020</td>\n",
       "      <td>70.186855</td>\n",
       "      <td>73</td>\n",
       "      <td>Male</td>\n",
       "      <td>Ex-smoker</td>\n",
       "      <td>test</td>\n",
       "      <td>100.0</td>\n",
       "      <td>ID00419637202311204720264_-8</td>\n",
       "      <td>...</td>\n",
       "      <td>-14.0</td>\n",
       "      <td>1</td>\n",
       "      <td>0</td>\n",
       "      <td>1</td>\n",
       "      <td>0</td>\n",
       "      <td>0</td>\n",
       "      <td>0.615385</td>\n",
       "      <td>0.3724</td>\n",
       "      <td>0.092593</td>\n",
       "      <td>0.332421</td>\n",
       "    </tr>\n",
       "  </tbody>\n",
       "</table>\n",
       "<p>5 rows × 22 columns</p>\n",
       "</div>"
      ],
      "text/plain": [
       "                        Patient  Weeks   FVC    Percent  Age   Sex  \\\n",
       "1540  ID00419637202311204720264    -12  3020  70.186855   73  Male   \n",
       "1541  ID00419637202311204720264    -11  3020  70.186855   73  Male   \n",
       "1542  ID00419637202311204720264    -10  3020  70.186855   73  Male   \n",
       "1543  ID00419637202311204720264     -9  3020  70.186855   73  Male   \n",
       "1544  ID00419637202311204720264     -8  3020  70.186855   73  Male   \n",
       "\n",
       "     SmokingStatus WHERE  Confidence                   Patient_Week  ...  \\\n",
       "1540     Ex-smoker  test       100.0  ID00419637202311204720264_-12  ...   \n",
       "1541     Ex-smoker  test       100.0  ID00419637202311204720264_-11  ...   \n",
       "1542     Ex-smoker  test       100.0  ID00419637202311204720264_-10  ...   \n",
       "1543     Ex-smoker  test       100.0   ID00419637202311204720264_-9  ...   \n",
       "1544     Ex-smoker  test       100.0   ID00419637202311204720264_-8  ...   \n",
       "\n",
       "      base_week  Male  Female  Ex-smoker  Never smoked  Currently smokes  \\\n",
       "1540      -18.0     1       0          1             0                 0   \n",
       "1541      -17.0     1       0          1             0                 0   \n",
       "1542      -16.0     1       0          1             0                 0   \n",
       "1543      -15.0     1       0          1             0                 0   \n",
       "1544      -14.0     1       0          1             0                 0   \n",
       "\n",
       "           age    BASE      week   percent  \n",
       "1540  0.615385  0.3724  0.067901  0.332421  \n",
       "1541  0.615385  0.3724  0.074074  0.332421  \n",
       "1542  0.615385  0.3724  0.080247  0.332421  \n",
       "1543  0.615385  0.3724  0.086420  0.332421  \n",
       "1544  0.615385  0.3724  0.092593  0.332421  \n",
       "\n",
       "[5 rows x 22 columns]"
      ]
     },
     "execution_count": 37,
     "metadata": {},
     "output_type": "execute_result"
    }
   ],
   "source": [
    "sub.head()"
   ]
  },
  {
   "cell_type": "code",
   "execution_count": 38,
   "metadata": {
    "execution": {
     "iopub.execute_input": "2020-09-11T07:34:56.416075Z",
     "iopub.status.busy": "2020-09-11T07:34:56.415185Z",
     "iopub.status.idle": "2020-09-11T07:34:56.430700Z",
     "shell.execute_reply": "2020-09-11T07:34:56.430156Z"
    },
    "papermill": {
     "duration": 0.09964,
     "end_time": "2020-09-11T07:34:56.430818",
     "exception": false,
     "start_time": "2020-09-11T07:34:56.331178",
     "status": "completed"
    },
    "tags": []
   },
   "outputs": [
    {
     "data": {
      "text/html": [
       "<div>\n",
       "<style scoped>\n",
       "    .dataframe tbody tr th:only-of-type {\n",
       "        vertical-align: middle;\n",
       "    }\n",
       "\n",
       "    .dataframe tbody tr th {\n",
       "        vertical-align: top;\n",
       "    }\n",
       "\n",
       "    .dataframe thead th {\n",
       "        text-align: right;\n",
       "    }\n",
       "</style>\n",
       "<table border=\"1\" class=\"dataframe\">\n",
       "  <thead>\n",
       "    <tr style=\"text-align: right;\">\n",
       "      <th></th>\n",
       "      <th>Patient_Week</th>\n",
       "      <th>FVC</th>\n",
       "      <th>Confidence</th>\n",
       "      <th>FVC1</th>\n",
       "      <th>Confidence1</th>\n",
       "    </tr>\n",
       "  </thead>\n",
       "  <tbody>\n",
       "    <tr>\n",
       "      <th>1540</th>\n",
       "      <td>ID00419637202311204720264_-12</td>\n",
       "      <td>3020</td>\n",
       "      <td>100.0</td>\n",
       "      <td>2867.961609</td>\n",
       "      <td>235.901672</td>\n",
       "    </tr>\n",
       "    <tr>\n",
       "      <th>1541</th>\n",
       "      <td>ID00419637202311204720264_-11</td>\n",
       "      <td>3020</td>\n",
       "      <td>100.0</td>\n",
       "      <td>2865.471924</td>\n",
       "      <td>237.084778</td>\n",
       "    </tr>\n",
       "    <tr>\n",
       "      <th>1542</th>\n",
       "      <td>ID00419637202311204720264_-10</td>\n",
       "      <td>3020</td>\n",
       "      <td>100.0</td>\n",
       "      <td>2862.982361</td>\n",
       "      <td>238.268066</td>\n",
       "    </tr>\n",
       "    <tr>\n",
       "      <th>1543</th>\n",
       "      <td>ID00419637202311204720264_-9</td>\n",
       "      <td>3020</td>\n",
       "      <td>100.0</td>\n",
       "      <td>2860.492554</td>\n",
       "      <td>239.451233</td>\n",
       "    </tr>\n",
       "    <tr>\n",
       "      <th>1544</th>\n",
       "      <td>ID00419637202311204720264_-8</td>\n",
       "      <td>3020</td>\n",
       "      <td>100.0</td>\n",
       "      <td>2858.002991</td>\n",
       "      <td>240.634460</td>\n",
       "    </tr>\n",
       "    <tr>\n",
       "      <th>1545</th>\n",
       "      <td>ID00419637202311204720264_-7</td>\n",
       "      <td>3020</td>\n",
       "      <td>100.0</td>\n",
       "      <td>2855.513367</td>\n",
       "      <td>241.817749</td>\n",
       "    </tr>\n",
       "    <tr>\n",
       "      <th>1546</th>\n",
       "      <td>ID00419637202311204720264_-6</td>\n",
       "      <td>3020</td>\n",
       "      <td>100.0</td>\n",
       "      <td>2853.023682</td>\n",
       "      <td>243.000916</td>\n",
       "    </tr>\n",
       "    <tr>\n",
       "      <th>1547</th>\n",
       "      <td>ID00419637202311204720264_-5</td>\n",
       "      <td>3020</td>\n",
       "      <td>100.0</td>\n",
       "      <td>2850.533936</td>\n",
       "      <td>244.184082</td>\n",
       "    </tr>\n",
       "    <tr>\n",
       "      <th>1548</th>\n",
       "      <td>ID00419637202311204720264_-4</td>\n",
       "      <td>3020</td>\n",
       "      <td>100.0</td>\n",
       "      <td>2848.044312</td>\n",
       "      <td>245.367126</td>\n",
       "    </tr>\n",
       "    <tr>\n",
       "      <th>1549</th>\n",
       "      <td>ID00419637202311204720264_-3</td>\n",
       "      <td>3020</td>\n",
       "      <td>100.0</td>\n",
       "      <td>2845.554749</td>\n",
       "      <td>246.550537</td>\n",
       "    </tr>\n",
       "  </tbody>\n",
       "</table>\n",
       "</div>"
      ],
      "text/plain": [
       "                       Patient_Week   FVC  Confidence         FVC1  \\\n",
       "1540  ID00419637202311204720264_-12  3020       100.0  2867.961609   \n",
       "1541  ID00419637202311204720264_-11  3020       100.0  2865.471924   \n",
       "1542  ID00419637202311204720264_-10  3020       100.0  2862.982361   \n",
       "1543   ID00419637202311204720264_-9  3020       100.0  2860.492554   \n",
       "1544   ID00419637202311204720264_-8  3020       100.0  2858.002991   \n",
       "1545   ID00419637202311204720264_-7  3020       100.0  2855.513367   \n",
       "1546   ID00419637202311204720264_-6  3020       100.0  2853.023682   \n",
       "1547   ID00419637202311204720264_-5  3020       100.0  2850.533936   \n",
       "1548   ID00419637202311204720264_-4  3020       100.0  2848.044312   \n",
       "1549   ID00419637202311204720264_-3  3020       100.0  2845.554749   \n",
       "\n",
       "      Confidence1  \n",
       "1540   235.901672  \n",
       "1541   237.084778  \n",
       "1542   238.268066  \n",
       "1543   239.451233  \n",
       "1544   240.634460  \n",
       "1545   241.817749  \n",
       "1546   243.000916  \n",
       "1547   244.184082  \n",
       "1548   245.367126  \n",
       "1549   246.550537  "
      ]
     },
     "execution_count": 38,
     "metadata": {},
     "output_type": "execute_result"
    }
   ],
   "source": [
    "# PREDICTION\n",
    "sub['FVC1'] = 1.*pe[:, 1]\n",
    "sub['Confidence1'] = pe[:, 2] - pe[:, 0]\n",
    "subm = sub[['Patient_Week','FVC','Confidence','FVC1','Confidence1']].copy()\n",
    "subm.loc[~subm.FVC1.isnull()].head(10)"
   ]
  },
  {
   "cell_type": "code",
   "execution_count": 39,
   "metadata": {
    "execution": {
     "iopub.execute_input": "2020-09-11T07:34:56.592956Z",
     "iopub.status.busy": "2020-09-11T07:34:56.591277Z",
     "iopub.status.idle": "2020-09-11T07:34:56.593890Z",
     "shell.execute_reply": "2020-09-11T07:34:56.594430Z"
    },
    "papermill": {
     "duration": 0.090163,
     "end_time": "2020-09-11T07:34:56.594549",
     "exception": false,
     "start_time": "2020-09-11T07:34:56.504386",
     "status": "completed"
    },
    "tags": []
   },
   "outputs": [],
   "source": [
    "subm.loc[~subm.FVC1.isnull(),'FVC'] = subm.loc[~subm.FVC1.isnull(),'FVC1']\n",
    "if sigma_mean<70:\n",
    "    subm['Confidence'] = sigma_opt\n",
    "else:\n",
    "    subm.loc[~subm.FVC1.isnull(),'Confidence'] = subm.loc[~subm.FVC1.isnull(),'Confidence1']"
   ]
  },
  {
   "cell_type": "code",
   "execution_count": 40,
   "metadata": {
    "execution": {
     "iopub.execute_input": "2020-09-11T07:34:56.748703Z",
     "iopub.status.busy": "2020-09-11T07:34:56.742396Z",
     "iopub.status.idle": "2020-09-11T07:34:56.752875Z",
     "shell.execute_reply": "2020-09-11T07:34:56.752372Z"
    },
    "papermill": {
     "duration": 0.085026,
     "end_time": "2020-09-11T07:34:56.752969",
     "exception": false,
     "start_time": "2020-09-11T07:34:56.667943",
     "status": "completed"
    },
    "tags": []
   },
   "outputs": [
    {
     "data": {
      "text/html": [
       "<div>\n",
       "<style scoped>\n",
       "    .dataframe tbody tr th:only-of-type {\n",
       "        vertical-align: middle;\n",
       "    }\n",
       "\n",
       "    .dataframe tbody tr th {\n",
       "        vertical-align: top;\n",
       "    }\n",
       "\n",
       "    .dataframe thead th {\n",
       "        text-align: right;\n",
       "    }\n",
       "</style>\n",
       "<table border=\"1\" class=\"dataframe\">\n",
       "  <thead>\n",
       "    <tr style=\"text-align: right;\">\n",
       "      <th></th>\n",
       "      <th>Patient_Week</th>\n",
       "      <th>FVC</th>\n",
       "      <th>Confidence</th>\n",
       "      <th>FVC1</th>\n",
       "      <th>Confidence1</th>\n",
       "    </tr>\n",
       "  </thead>\n",
       "  <tbody>\n",
       "    <tr>\n",
       "      <th>1540</th>\n",
       "      <td>ID00419637202311204720264_-12</td>\n",
       "      <td>2867.961609</td>\n",
       "      <td>235.901672</td>\n",
       "      <td>2867.961609</td>\n",
       "      <td>235.901672</td>\n",
       "    </tr>\n",
       "    <tr>\n",
       "      <th>1541</th>\n",
       "      <td>ID00419637202311204720264_-11</td>\n",
       "      <td>2865.471924</td>\n",
       "      <td>237.084778</td>\n",
       "      <td>2865.471924</td>\n",
       "      <td>237.084778</td>\n",
       "    </tr>\n",
       "    <tr>\n",
       "      <th>1542</th>\n",
       "      <td>ID00419637202311204720264_-10</td>\n",
       "      <td>2862.982361</td>\n",
       "      <td>238.268066</td>\n",
       "      <td>2862.982361</td>\n",
       "      <td>238.268066</td>\n",
       "    </tr>\n",
       "    <tr>\n",
       "      <th>1543</th>\n",
       "      <td>ID00419637202311204720264_-9</td>\n",
       "      <td>2860.492554</td>\n",
       "      <td>239.451233</td>\n",
       "      <td>2860.492554</td>\n",
       "      <td>239.451233</td>\n",
       "    </tr>\n",
       "    <tr>\n",
       "      <th>1544</th>\n",
       "      <td>ID00419637202311204720264_-8</td>\n",
       "      <td>2858.002991</td>\n",
       "      <td>240.634460</td>\n",
       "      <td>2858.002991</td>\n",
       "      <td>240.634460</td>\n",
       "    </tr>\n",
       "  </tbody>\n",
       "</table>\n",
       "</div>"
      ],
      "text/plain": [
       "                       Patient_Week          FVC  Confidence         FVC1  \\\n",
       "1540  ID00419637202311204720264_-12  2867.961609  235.901672  2867.961609   \n",
       "1541  ID00419637202311204720264_-11  2865.471924  237.084778  2865.471924   \n",
       "1542  ID00419637202311204720264_-10  2862.982361  238.268066  2862.982361   \n",
       "1543   ID00419637202311204720264_-9  2860.492554  239.451233  2860.492554   \n",
       "1544   ID00419637202311204720264_-8  2858.002991  240.634460  2858.002991   \n",
       "\n",
       "      Confidence1  \n",
       "1540   235.901672  \n",
       "1541   237.084778  \n",
       "1542   238.268066  \n",
       "1543   239.451233  \n",
       "1544   240.634460  "
      ]
     },
     "execution_count": 40,
     "metadata": {},
     "output_type": "execute_result"
    }
   ],
   "source": [
    "subm.head()"
   ]
  },
  {
   "cell_type": "code",
   "execution_count": 41,
   "metadata": {
    "execution": {
     "iopub.execute_input": "2020-09-11T07:34:56.949647Z",
     "iopub.status.busy": "2020-09-11T07:34:56.945122Z",
     "iopub.status.idle": "2020-09-11T07:34:56.967905Z",
     "shell.execute_reply": "2020-09-11T07:34:56.968562Z"
    },
    "papermill": {
     "duration": 0.14009,
     "end_time": "2020-09-11T07:34:56.968709",
     "exception": false,
     "start_time": "2020-09-11T07:34:56.828619",
     "status": "completed"
    },
    "tags": []
   },
   "outputs": [
    {
     "data": {
      "text/html": [
       "<div>\n",
       "<style scoped>\n",
       "    .dataframe tbody tr th:only-of-type {\n",
       "        vertical-align: middle;\n",
       "    }\n",
       "\n",
       "    .dataframe tbody tr th {\n",
       "        vertical-align: top;\n",
       "    }\n",
       "\n",
       "    .dataframe thead th {\n",
       "        text-align: right;\n",
       "    }\n",
       "</style>\n",
       "<table border=\"1\" class=\"dataframe\">\n",
       "  <thead>\n",
       "    <tr style=\"text-align: right;\">\n",
       "      <th></th>\n",
       "      <th>count</th>\n",
       "      <th>mean</th>\n",
       "      <th>std</th>\n",
       "      <th>min</th>\n",
       "      <th>25%</th>\n",
       "      <th>50%</th>\n",
       "      <th>75%</th>\n",
       "      <th>max</th>\n",
       "    </tr>\n",
       "  </thead>\n",
       "  <tbody>\n",
       "    <tr>\n",
       "      <th>FVC</th>\n",
       "      <td>730.0</td>\n",
       "      <td>2640.553089</td>\n",
       "      <td>330.093829</td>\n",
       "      <td>1952.737518</td>\n",
       "      <td>2583.243851</td>\n",
       "      <td>2685.945099</td>\n",
       "      <td>2821.241989</td>\n",
       "      <td>3208.767151</td>\n",
       "    </tr>\n",
       "    <tr>\n",
       "      <th>Confidence</th>\n",
       "      <td>730.0</td>\n",
       "      <td>284.255015</td>\n",
       "      <td>45.493414</td>\n",
       "      <td>184.645691</td>\n",
       "      <td>249.555977</td>\n",
       "      <td>282.700821</td>\n",
       "      <td>322.780853</td>\n",
       "      <td>370.599915</td>\n",
       "    </tr>\n",
       "    <tr>\n",
       "      <th>FVC1</th>\n",
       "      <td>730.0</td>\n",
       "      <td>2640.553089</td>\n",
       "      <td>330.093829</td>\n",
       "      <td>1952.737518</td>\n",
       "      <td>2583.243851</td>\n",
       "      <td>2685.945099</td>\n",
       "      <td>2821.241989</td>\n",
       "      <td>3208.767151</td>\n",
       "    </tr>\n",
       "    <tr>\n",
       "      <th>Confidence1</th>\n",
       "      <td>730.0</td>\n",
       "      <td>284.255015</td>\n",
       "      <td>45.493414</td>\n",
       "      <td>184.645691</td>\n",
       "      <td>249.555977</td>\n",
       "      <td>282.700821</td>\n",
       "      <td>322.780853</td>\n",
       "      <td>370.599915</td>\n",
       "    </tr>\n",
       "  </tbody>\n",
       "</table>\n",
       "</div>"
      ],
      "text/plain": [
       "             count         mean         std          min          25%  \\\n",
       "FVC          730.0  2640.553089  330.093829  1952.737518  2583.243851   \n",
       "Confidence   730.0   284.255015   45.493414   184.645691   249.555977   \n",
       "FVC1         730.0  2640.553089  330.093829  1952.737518  2583.243851   \n",
       "Confidence1  730.0   284.255015   45.493414   184.645691   249.555977   \n",
       "\n",
       "                     50%          75%          max  \n",
       "FVC          2685.945099  2821.241989  3208.767151  \n",
       "Confidence    282.700821   322.780853   370.599915  \n",
       "FVC1         2685.945099  2821.241989  3208.767151  \n",
       "Confidence1   282.700821   322.780853   370.599915  "
      ]
     },
     "execution_count": 41,
     "metadata": {},
     "output_type": "execute_result"
    }
   ],
   "source": [
    "subm.describe().T"
   ]
  },
  {
   "cell_type": "code",
   "execution_count": 42,
   "metadata": {
    "execution": {
     "iopub.execute_input": "2020-09-11T07:34:57.142721Z",
     "iopub.status.busy": "2020-09-11T07:34:57.141946Z",
     "iopub.status.idle": "2020-09-11T07:34:57.145988Z",
     "shell.execute_reply": "2020-09-11T07:34:57.145198Z"
    },
    "papermill": {
     "duration": 0.104771,
     "end_time": "2020-09-11T07:34:57.146099",
     "exception": false,
     "start_time": "2020-09-11T07:34:57.041328",
     "status": "completed"
    },
    "tags": []
   },
   "outputs": [],
   "source": [
    "otest = pd.read_csv('../input/osic-pulmonary-fibrosis-progression/test.csv')\n",
    "for i in range(len(otest)):\n",
    "    subm.loc[subm['Patient_Week']==otest.Patient[i]+'_'+str(otest.Weeks[i]), 'FVC'] = otest.FVC[i]\n",
    "    subm.loc[subm['Patient_Week']==otest.Patient[i]+'_'+str(otest.Weeks[i]), 'Confidence'] = 0.1"
   ]
  },
  {
   "cell_type": "code",
   "execution_count": 43,
   "metadata": {
    "execution": {
     "iopub.execute_input": "2020-09-11T07:34:57.304633Z",
     "iopub.status.busy": "2020-09-11T07:34:57.303905Z",
     "iopub.status.idle": "2020-09-11T07:34:57.314124Z",
     "shell.execute_reply": "2020-09-11T07:34:57.313614Z"
    },
    "papermill": {
     "duration": 0.086432,
     "end_time": "2020-09-11T07:34:57.314220",
     "exception": false,
     "start_time": "2020-09-11T07:34:57.227788",
     "status": "completed"
    },
    "tags": []
   },
   "outputs": [],
   "source": [
    "subm[[\"Patient_Week\",\"FVC\",\"Confidence\"]].to_csv(\"submission_regression.csv\", index=False)"
   ]
  },
  {
   "cell_type": "code",
   "execution_count": 44,
   "metadata": {
    "execution": {
     "iopub.execute_input": "2020-09-11T07:34:57.458187Z",
     "iopub.status.busy": "2020-09-11T07:34:57.457586Z",
     "iopub.status.idle": "2020-09-11T07:34:57.462014Z",
     "shell.execute_reply": "2020-09-11T07:34:57.461522Z"
    },
    "papermill": {
     "duration": 0.078486,
     "end_time": "2020-09-11T07:34:57.462124",
     "exception": false,
     "start_time": "2020-09-11T07:34:57.383638",
     "status": "completed"
    },
    "tags": []
   },
   "outputs": [],
   "source": [
    "reg_sub = subm[[\"Patient_Week\",\"FVC\",\"Confidence\"]].copy()"
   ]
  },
  {
   "cell_type": "markdown",
   "metadata": {
    "papermill": {
     "duration": 0.067665,
     "end_time": "2020-09-11T07:34:57.598311",
     "exception": false,
     "start_time": "2020-09-11T07:34:57.530646",
     "status": "completed"
    },
    "tags": []
   },
   "source": [
    "## 4.4 Ensemble and blending <a class=\"anchor\" id=\"4.4\"></a>\n",
    "\n",
    "[Back to Table of Contents](#0.1)"
   ]
  },
  {
   "cell_type": "code",
   "execution_count": 45,
   "metadata": {
    "execution": {
     "iopub.execute_input": "2020-09-11T07:34:57.745449Z",
     "iopub.status.busy": "2020-09-11T07:34:57.744272Z",
     "iopub.status.idle": "2020-09-11T07:34:57.748251Z",
     "shell.execute_reply": "2020-09-11T07:34:57.747656Z"
    },
    "papermill": {
     "duration": 0.081403,
     "end_time": "2020-09-11T07:34:57.748360",
     "exception": false,
     "start_time": "2020-09-11T07:34:57.666957",
     "status": "completed"
    },
    "tags": []
   },
   "outputs": [],
   "source": [
    "df1 = img_sub.sort_values(by=['Patient_Week'], ascending=True).reset_index(drop=True)\n",
    "df2 = reg_sub.sort_values(by=['Patient_Week'], ascending=True).reset_index(drop=True)"
   ]
  },
  {
   "cell_type": "code",
   "execution_count": 46,
   "metadata": {
    "execution": {
     "iopub.execute_input": "2020-09-11T07:34:57.902858Z",
     "iopub.status.busy": "2020-09-11T07:34:57.901982Z",
     "iopub.status.idle": "2020-09-11T07:34:57.907212Z",
     "shell.execute_reply": "2020-09-11T07:34:57.907911Z"
    },
    "papermill": {
     "duration": 0.091585,
     "end_time": "2020-09-11T07:34:57.908071",
     "exception": false,
     "start_time": "2020-09-11T07:34:57.816486",
     "status": "completed"
    },
    "tags": []
   },
   "outputs": [
    {
     "data": {
      "text/html": [
       "<div>\n",
       "<style scoped>\n",
       "    .dataframe tbody tr th:only-of-type {\n",
       "        vertical-align: middle;\n",
       "    }\n",
       "\n",
       "    .dataframe tbody tr th {\n",
       "        vertical-align: top;\n",
       "    }\n",
       "\n",
       "    .dataframe thead th {\n",
       "        text-align: right;\n",
       "    }\n",
       "</style>\n",
       "<table border=\"1\" class=\"dataframe\">\n",
       "  <thead>\n",
       "    <tr style=\"text-align: right;\">\n",
       "      <th></th>\n",
       "      <th>Patient_Week</th>\n",
       "      <th>FVC</th>\n",
       "      <th>Confidence</th>\n",
       "    </tr>\n",
       "  </thead>\n",
       "  <tbody>\n",
       "    <tr>\n",
       "      <th>0</th>\n",
       "      <td>ID00419637202311204720264_-1</td>\n",
       "      <td>2882.127525</td>\n",
       "      <td>218.838041</td>\n",
       "    </tr>\n",
       "    <tr>\n",
       "      <th>1</th>\n",
       "      <td>ID00419637202311204720264_-10</td>\n",
       "      <td>2907.339429</td>\n",
       "      <td>217.605364</td>\n",
       "    </tr>\n",
       "    <tr>\n",
       "      <th>2</th>\n",
       "      <td>ID00419637202311204720264_-11</td>\n",
       "      <td>2910.140676</td>\n",
       "      <td>217.468330</td>\n",
       "    </tr>\n",
       "    <tr>\n",
       "      <th>3</th>\n",
       "      <td>ID00419637202311204720264_-12</td>\n",
       "      <td>2912.942020</td>\n",
       "      <td>217.331442</td>\n",
       "    </tr>\n",
       "    <tr>\n",
       "      <th>4</th>\n",
       "      <td>ID00419637202311204720264_-2</td>\n",
       "      <td>2884.928723</td>\n",
       "      <td>218.701153</td>\n",
       "    </tr>\n",
       "  </tbody>\n",
       "</table>\n",
       "</div>"
      ],
      "text/plain": [
       "                    Patient_Week          FVC  Confidence\n",
       "0   ID00419637202311204720264_-1  2882.127525  218.838041\n",
       "1  ID00419637202311204720264_-10  2907.339429  217.605364\n",
       "2  ID00419637202311204720264_-11  2910.140676  217.468330\n",
       "3  ID00419637202311204720264_-12  2912.942020  217.331442\n",
       "4   ID00419637202311204720264_-2  2884.928723  218.701153"
      ]
     },
     "execution_count": 46,
     "metadata": {},
     "output_type": "execute_result"
    }
   ],
   "source": [
    "df = df1[['Patient_Week']].copy()\n",
    "df['FVC'] = FVC_weight*df1['FVC'] + (1-FVC_weight)*df2['FVC']\n",
    "df['Confidence'] = Confidence_weight*df1['Confidence'] + (1-Confidence_weight)*df2['Confidence']\n",
    "df.head()"
   ]
  },
  {
   "cell_type": "code",
   "execution_count": 47,
   "metadata": {
    "execution": {
     "iopub.execute_input": "2020-09-11T07:34:58.065251Z",
     "iopub.status.busy": "2020-09-11T07:34:58.063363Z",
     "iopub.status.idle": "2020-09-11T07:34:58.065913Z",
     "shell.execute_reply": "2020-09-11T07:34:58.066404Z"
    },
    "papermill": {
     "duration": 0.083142,
     "end_time": "2020-09-11T07:34:58.066522",
     "exception": false,
     "start_time": "2020-09-11T07:34:57.983380",
     "status": "completed"
    },
    "tags": []
   },
   "outputs": [],
   "source": [
    "df.to_csv('submission.csv', index=False)"
   ]
  },
  {
   "cell_type": "markdown",
   "metadata": {
    "papermill": {
     "duration": 0.068604,
     "end_time": "2020-09-11T07:34:58.203689",
     "exception": false,
     "start_time": "2020-09-11T07:34:58.135085",
     "status": "completed"
    },
    "tags": []
   },
   "source": [
    "[Go to Top](#0)"
   ]
  }
 ],
 "metadata": {
  "kernelspec": {
   "display_name": "Python 3",
   "language": "python",
   "name": "python3"
  },
  "language_info": {
   "codemirror_mode": {
    "name": "ipython",
    "version": 3
   },
   "file_extension": ".py",
   "mimetype": "text/x-python",
   "name": "python",
   "nbconvert_exporter": "python",
   "pygments_lexer": "ipython3",
   "version": "3.7.6"
  },
  "papermill": {
   "duration": 1272.442325,
   "end_time": "2020-09-11T07:34:59.838104",
   "environment_variables": {},
   "exception": null,
   "input_path": "__notebook__.ipynb",
   "output_path": "__notebook__.ipynb",
   "parameters": {},
   "start_time": "2020-09-11T07:13:47.395779",
   "version": "2.1.0"
  },
  "widgets": {
   "application/vnd.jupyter.widget-state+json": {
    "state": {
     "09d9e2dab20a499d9bda51c64e28a0f7": {
      "model_module": "@jupyter-widgets/controls",
      "model_module_version": "1.5.0",
      "model_name": "DescriptionStyleModel",
      "state": {
       "_model_module": "@jupyter-widgets/controls",
       "_model_module_version": "1.5.0",
       "_model_name": "DescriptionStyleModel",
       "_view_count": null,
       "_view_module": "@jupyter-widgets/base",
       "_view_module_version": "1.2.0",
       "_view_name": "StyleView",
       "description_width": ""
      }
     },
     "35aa5fa2c6c043a8b951293bf3ce25f7": {
      "model_module": "@jupyter-widgets/controls",
      "model_module_version": "1.5.0",
      "model_name": "HTMLModel",
      "state": {
       "_dom_classes": [],
       "_model_module": "@jupyter-widgets/controls",
       "_model_module_version": "1.5.0",
       "_model_name": "HTMLModel",
       "_view_count": null,
       "_view_module": "@jupyter-widgets/controls",
       "_view_module_version": "1.5.0",
       "_view_name": "HTMLView",
       "description": "",
       "description_tooltip": null,
       "layout": "IPY_MODEL_a93e52e6cb344a37a2bc51a1888cfbea",
       "placeholder": "​",
       "style": "IPY_MODEL_ad16ed7f907d4d1a8e7673381f379a30",
       "value": " 9/9 [15:54&lt;00:00, 106.06s/it]"
      }
     },
     "5d2d447fac614ef6bfb3a5a44a4e2e2d": {
      "model_module": "@jupyter-widgets/controls",
      "model_module_version": "1.5.0",
      "model_name": "HTMLModel",
      "state": {
       "_dom_classes": [],
       "_model_module": "@jupyter-widgets/controls",
       "_model_module_version": "1.5.0",
       "_model_name": "HTMLModel",
       "_view_count": null,
       "_view_module": "@jupyter-widgets/controls",
       "_view_module_version": "1.5.0",
       "_view_name": "HTMLView",
       "description": "",
       "description_tooltip": null,
       "layout": "IPY_MODEL_fc7e30c1fd7a4661ae778e82a1085fe0",
       "placeholder": "​",
       "style": "IPY_MODEL_09d9e2dab20a499d9bda51c64e28a0f7",
       "value": " 176/? [00:00&lt;00:00, 197.94it/s]"
      }
     },
     "63d9d55a75e44b3abe6f07f2df1b1bb8": {
      "model_module": "@jupyter-widgets/base",
      "model_module_version": "1.2.0",
      "model_name": "LayoutModel",
      "state": {
       "_model_module": "@jupyter-widgets/base",
       "_model_module_version": "1.2.0",
       "_model_name": "LayoutModel",
       "_view_count": null,
       "_view_module": "@jupyter-widgets/base",
       "_view_module_version": "1.2.0",
       "_view_name": "LayoutView",
       "align_content": null,
       "align_items": null,
       "align_self": null,
       "border": null,
       "bottom": null,
       "display": null,
       "flex": null,
       "flex_flow": null,
       "grid_area": null,
       "grid_auto_columns": null,
       "grid_auto_flow": null,
       "grid_auto_rows": null,
       "grid_column": null,
       "grid_gap": null,
       "grid_row": null,
       "grid_template_areas": null,
       "grid_template_columns": null,
       "grid_template_rows": null,
       "height": null,
       "justify_content": null,
       "justify_items": null,
       "left": null,
       "margin": null,
       "max_height": null,
       "max_width": null,
       "min_height": null,
       "min_width": null,
       "object_fit": null,
       "object_position": null,
       "order": null,
       "overflow": null,
       "overflow_x": null,
       "overflow_y": null,
       "padding": null,
       "right": null,
       "top": null,
       "visibility": null,
       "width": null
      }
     },
     "7272c3495c234d0a98b683b15931441b": {
      "model_module": "@jupyter-widgets/base",
      "model_module_version": "1.2.0",
      "model_name": "LayoutModel",
      "state": {
       "_model_module": "@jupyter-widgets/base",
       "_model_module_version": "1.2.0",
       "_model_name": "LayoutModel",
       "_view_count": null,
       "_view_module": "@jupyter-widgets/base",
       "_view_module_version": "1.2.0",
       "_view_name": "LayoutView",
       "align_content": null,
       "align_items": null,
       "align_self": null,
       "border": null,
       "bottom": null,
       "display": null,
       "flex": null,
       "flex_flow": null,
       "grid_area": null,
       "grid_auto_columns": null,
       "grid_auto_flow": null,
       "grid_auto_rows": null,
       "grid_column": null,
       "grid_gap": null,
       "grid_row": null,
       "grid_template_areas": null,
       "grid_template_columns": null,
       "grid_template_rows": null,
       "height": null,
       "justify_content": null,
       "justify_items": null,
       "left": null,
       "margin": null,
       "max_height": null,
       "max_width": null,
       "min_height": null,
       "min_width": null,
       "object_fit": null,
       "object_position": null,
       "order": null,
       "overflow": null,
       "overflow_x": null,
       "overflow_y": null,
       "padding": null,
       "right": null,
       "top": null,
       "visibility": null,
       "width": null
      }
     },
     "9c2cc58de1f744288781e4bcf3e47311": {
      "model_module": "@jupyter-widgets/base",
      "model_module_version": "1.2.0",
      "model_name": "LayoutModel",
      "state": {
       "_model_module": "@jupyter-widgets/base",
       "_model_module_version": "1.2.0",
       "_model_name": "LayoutModel",
       "_view_count": null,
       "_view_module": "@jupyter-widgets/base",
       "_view_module_version": "1.2.0",
       "_view_name": "LayoutView",
       "align_content": null,
       "align_items": null,
       "align_self": null,
       "border": null,
       "bottom": null,
       "display": null,
       "flex": null,
       "flex_flow": null,
       "grid_area": null,
       "grid_auto_columns": null,
       "grid_auto_flow": null,
       "grid_auto_rows": null,
       "grid_column": null,
       "grid_gap": null,
       "grid_row": null,
       "grid_template_areas": null,
       "grid_template_columns": null,
       "grid_template_rows": null,
       "height": null,
       "justify_content": null,
       "justify_items": null,
       "left": null,
       "margin": null,
       "max_height": null,
       "max_width": null,
       "min_height": null,
       "min_width": null,
       "object_fit": null,
       "object_position": null,
       "order": null,
       "overflow": null,
       "overflow_x": null,
       "overflow_y": null,
       "padding": null,
       "right": null,
       "top": null,
       "visibility": null,
       "width": null
      }
     },
     "a93e52e6cb344a37a2bc51a1888cfbea": {
      "model_module": "@jupyter-widgets/base",
      "model_module_version": "1.2.0",
      "model_name": "LayoutModel",
      "state": {
       "_model_module": "@jupyter-widgets/base",
       "_model_module_version": "1.2.0",
       "_model_name": "LayoutModel",
       "_view_count": null,
       "_view_module": "@jupyter-widgets/base",
       "_view_module_version": "1.2.0",
       "_view_name": "LayoutView",
       "align_content": null,
       "align_items": null,
       "align_self": null,
       "border": null,
       "bottom": null,
       "display": null,
       "flex": null,
       "flex_flow": null,
       "grid_area": null,
       "grid_auto_columns": null,
       "grid_auto_flow": null,
       "grid_auto_rows": null,
       "grid_column": null,
       "grid_gap": null,
       "grid_row": null,
       "grid_template_areas": null,
       "grid_template_columns": null,
       "grid_template_rows": null,
       "height": null,
       "justify_content": null,
       "justify_items": null,
       "left": null,
       "margin": null,
       "max_height": null,
       "max_width": null,
       "min_height": null,
       "min_width": null,
       "object_fit": null,
       "object_position": null,
       "order": null,
       "overflow": null,
       "overflow_x": null,
       "overflow_y": null,
       "padding": null,
       "right": null,
       "top": null,
       "visibility": null,
       "width": null
      }
     },
     "ad16ed7f907d4d1a8e7673381f379a30": {
      "model_module": "@jupyter-widgets/controls",
      "model_module_version": "1.5.0",
      "model_name": "DescriptionStyleModel",
      "state": {
       "_model_module": "@jupyter-widgets/controls",
       "_model_module_version": "1.5.0",
       "_model_name": "DescriptionStyleModel",
       "_view_count": null,
       "_view_module": "@jupyter-widgets/base",
       "_view_module_version": "1.2.0",
       "_view_name": "StyleView",
       "description_width": ""
      }
     },
     "b6047cd322ae443fb3cb7a20d204eb7b": {
      "model_module": "@jupyter-widgets/controls",
      "model_module_version": "1.5.0",
      "model_name": "HBoxModel",
      "state": {
       "_dom_classes": [],
       "_model_module": "@jupyter-widgets/controls",
       "_model_module_version": "1.5.0",
       "_model_name": "HBoxModel",
       "_view_count": null,
       "_view_module": "@jupyter-widgets/controls",
       "_view_module_version": "1.5.0",
       "_view_name": "HBoxView",
       "box_style": "",
       "children": [
        "IPY_MODEL_bb1136d7e97d4c51b054881880596432",
        "IPY_MODEL_35aa5fa2c6c043a8b951293bf3ce25f7"
       ],
       "layout": "IPY_MODEL_9c2cc58de1f744288781e4bcf3e47311"
      }
     },
     "bb1136d7e97d4c51b054881880596432": {
      "model_module": "@jupyter-widgets/controls",
      "model_module_version": "1.5.0",
      "model_name": "FloatProgressModel",
      "state": {
       "_dom_classes": [],
       "_model_module": "@jupyter-widgets/controls",
       "_model_module_version": "1.5.0",
       "_model_name": "FloatProgressModel",
       "_view_count": null,
       "_view_module": "@jupyter-widgets/controls",
       "_view_module_version": "1.5.0",
       "_view_name": "ProgressView",
       "bar_style": "success",
       "description": "100%",
       "description_tooltip": null,
       "layout": "IPY_MODEL_7272c3495c234d0a98b683b15931441b",
       "max": 9.0,
       "min": 0.0,
       "orientation": "horizontal",
       "style": "IPY_MODEL_e0cc4664f04445e3bae049173be7e48e",
       "value": 9.0
      }
     },
     "d41fe29bd40a4e85b18e3d78e084c180": {
      "model_module": "@jupyter-widgets/controls",
      "model_module_version": "1.5.0",
      "model_name": "HBoxModel",
      "state": {
       "_dom_classes": [],
       "_model_module": "@jupyter-widgets/controls",
       "_model_module_version": "1.5.0",
       "_model_name": "HBoxModel",
       "_view_count": null,
       "_view_module": "@jupyter-widgets/controls",
       "_view_module_version": "1.5.0",
       "_view_name": "HBoxView",
       "box_style": "",
       "children": [
        "IPY_MODEL_df134d9693da4165904daeb9e0a25da1",
        "IPY_MODEL_5d2d447fac614ef6bfb3a5a44a4e2e2d"
       ],
       "layout": "IPY_MODEL_ec2239e176ce41e6ae3a74951647f3e2"
      }
     },
     "df134d9693da4165904daeb9e0a25da1": {
      "model_module": "@jupyter-widgets/controls",
      "model_module_version": "1.5.0",
      "model_name": "FloatProgressModel",
      "state": {
       "_dom_classes": [],
       "_model_module": "@jupyter-widgets/controls",
       "_model_module_version": "1.5.0",
       "_model_name": "FloatProgressModel",
       "_view_count": null,
       "_view_module": "@jupyter-widgets/controls",
       "_view_module_version": "1.5.0",
       "_view_name": "ProgressView",
       "bar_style": "success",
       "description": "",
       "description_tooltip": null,
       "layout": "IPY_MODEL_63d9d55a75e44b3abe6f07f2df1b1bb8",
       "max": 1.0,
       "min": 0.0,
       "orientation": "horizontal",
       "style": "IPY_MODEL_e4b95a588e5e473fbcf9c59266633416",
       "value": 1.0
      }
     },
     "e0cc4664f04445e3bae049173be7e48e": {
      "model_module": "@jupyter-widgets/controls",
      "model_module_version": "1.5.0",
      "model_name": "ProgressStyleModel",
      "state": {
       "_model_module": "@jupyter-widgets/controls",
       "_model_module_version": "1.5.0",
       "_model_name": "ProgressStyleModel",
       "_view_count": null,
       "_view_module": "@jupyter-widgets/base",
       "_view_module_version": "1.2.0",
       "_view_name": "StyleView",
       "bar_color": null,
       "description_width": "initial"
      }
     },
     "e4b95a588e5e473fbcf9c59266633416": {
      "model_module": "@jupyter-widgets/controls",
      "model_module_version": "1.5.0",
      "model_name": "ProgressStyleModel",
      "state": {
       "_model_module": "@jupyter-widgets/controls",
       "_model_module_version": "1.5.0",
       "_model_name": "ProgressStyleModel",
       "_view_count": null,
       "_view_module": "@jupyter-widgets/base",
       "_view_module_version": "1.2.0",
       "_view_name": "StyleView",
       "bar_color": null,
       "description_width": "initial"
      }
     },
     "ec2239e176ce41e6ae3a74951647f3e2": {
      "model_module": "@jupyter-widgets/base",
      "model_module_version": "1.2.0",
      "model_name": "LayoutModel",
      "state": {
       "_model_module": "@jupyter-widgets/base",
       "_model_module_version": "1.2.0",
       "_model_name": "LayoutModel",
       "_view_count": null,
       "_view_module": "@jupyter-widgets/base",
       "_view_module_version": "1.2.0",
       "_view_name": "LayoutView",
       "align_content": null,
       "align_items": null,
       "align_self": null,
       "border": null,
       "bottom": null,
       "display": null,
       "flex": null,
       "flex_flow": null,
       "grid_area": null,
       "grid_auto_columns": null,
       "grid_auto_flow": null,
       "grid_auto_rows": null,
       "grid_column": null,
       "grid_gap": null,
       "grid_row": null,
       "grid_template_areas": null,
       "grid_template_columns": null,
       "grid_template_rows": null,
       "height": null,
       "justify_content": null,
       "justify_items": null,
       "left": null,
       "margin": null,
       "max_height": null,
       "max_width": null,
       "min_height": null,
       "min_width": null,
       "object_fit": null,
       "object_position": null,
       "order": null,
       "overflow": null,
       "overflow_x": null,
       "overflow_y": null,
       "padding": null,
       "right": null,
       "top": null,
       "visibility": null,
       "width": null
      }
     },
     "fc7e30c1fd7a4661ae778e82a1085fe0": {
      "model_module": "@jupyter-widgets/base",
      "model_module_version": "1.2.0",
      "model_name": "LayoutModel",
      "state": {
       "_model_module": "@jupyter-widgets/base",
       "_model_module_version": "1.2.0",
       "_model_name": "LayoutModel",
       "_view_count": null,
       "_view_module": "@jupyter-widgets/base",
       "_view_module_version": "1.2.0",
       "_view_name": "LayoutView",
       "align_content": null,
       "align_items": null,
       "align_self": null,
       "border": null,
       "bottom": null,
       "display": null,
       "flex": null,
       "flex_flow": null,
       "grid_area": null,
       "grid_auto_columns": null,
       "grid_auto_flow": null,
       "grid_auto_rows": null,
       "grid_column": null,
       "grid_gap": null,
       "grid_row": null,
       "grid_template_areas": null,
       "grid_template_columns": null,
       "grid_template_rows": null,
       "height": null,
       "justify_content": null,
       "justify_items": null,
       "left": null,
       "margin": null,
       "max_height": null,
       "max_width": null,
       "min_height": null,
       "min_width": null,
       "object_fit": null,
       "object_position": null,
       "order": null,
       "overflow": null,
       "overflow_x": null,
       "overflow_y": null,
       "padding": null,
       "right": null,
       "top": null,
       "visibility": null,
       "width": null
      }
     }
    },
    "version_major": 2,
    "version_minor": 0
   }
  }
 },
 "nbformat": 4,
 "nbformat_minor": 4
}
